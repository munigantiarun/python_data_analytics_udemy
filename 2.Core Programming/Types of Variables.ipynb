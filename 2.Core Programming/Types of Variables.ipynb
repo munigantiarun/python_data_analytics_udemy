{
 "cells": [
  {
   "cell_type": "code",
   "execution_count": 1,
   "id": "02cd4d7e-85ed-441b-ba02-8563887d08e3",
   "metadata": {},
   "outputs": [],
   "source": [
    "#integer\n",
    "x = 2"
   ]
  },
  {
   "cell_type": "code",
   "execution_count": 2,
   "id": "d2cbeada-d071-4009-84d5-f71f98e8d2b5",
   "metadata": {},
   "outputs": [
    {
     "data": {
      "text/plain": [
       "2"
      ]
     },
     "execution_count": 2,
     "metadata": {},
     "output_type": "execute_result"
    }
   ],
   "source": [
    "x"
   ]
  },
  {
   "cell_type": "code",
   "execution_count": 3,
   "id": "917ef2fb-43f7-4d66-ad6d-fc8c86b0acef",
   "metadata": {},
   "outputs": [
    {
     "data": {
      "text/plain": [
       "int"
      ]
     },
     "execution_count": 3,
     "metadata": {},
     "output_type": "execute_result"
    }
   ],
   "source": [
    "type(x)"
   ]
  },
  {
   "cell_type": "code",
   "execution_count": 7,
   "id": "38599ba7-ed7f-4df1-9be8-b588044e78cb",
   "metadata": {},
   "outputs": [],
   "source": [
    "#float\n",
    "y = 13.5"
   ]
  },
  {
   "cell_type": "code",
   "execution_count": 8,
   "id": "3ac2b0ef-278e-4ad2-a6f1-69093ddf3c92",
   "metadata": {},
   "outputs": [
    {
     "data": {
      "text/plain": [
       "13.5"
      ]
     },
     "execution_count": 8,
     "metadata": {},
     "output_type": "execute_result"
    }
   ],
   "source": [
    "y"
   ]
  },
  {
   "cell_type": "code",
   "execution_count": 10,
   "id": "c737b592-f6a2-4baa-9199-b0c3428e92a9",
   "metadata": {},
   "outputs": [
    {
     "data": {
      "text/plain": [
       "float"
      ]
     },
     "execution_count": 10,
     "metadata": {},
     "output_type": "execute_result"
    }
   ],
   "source": [
    "type(y)"
   ]
  },
  {
   "cell_type": "code",
   "execution_count": 13,
   "id": "42c05fc6-28d6-41b3-8fcc-776eb71e6e92",
   "metadata": {},
   "outputs": [],
   "source": [
    "#string\n",
    "a = \"hello\"\n"
   ]
  },
  {
   "cell_type": "code",
   "execution_count": 14,
   "id": "14e485f3-5452-4757-916c-08bcb815c391",
   "metadata": {},
   "outputs": [
    {
     "data": {
      "text/plain": [
       "'hello'"
      ]
     },
     "execution_count": 14,
     "metadata": {},
     "output_type": "execute_result"
    }
   ],
   "source": [
    "a"
   ]
  },
  {
   "cell_type": "code",
   "execution_count": 15,
   "id": "376d6690-ffb3-4b7c-9231-5fe981a83160",
   "metadata": {},
   "outputs": [
    {
     "data": {
      "text/plain": [
       "str"
      ]
     },
     "execution_count": 15,
     "metadata": {},
     "output_type": "execute_result"
    }
   ],
   "source": [
    "type(a)\n"
   ]
  },
  {
   "cell_type": "code",
   "execution_count": 17,
   "id": "ae22cd7b-7e63-4736-ab76-87b4b479cd28",
   "metadata": {},
   "outputs": [],
   "source": [
    "#logical\n",
    "q1 = True\n"
   ]
  },
  {
   "cell_type": "code",
   "execution_count": 18,
   "id": "795b8157-6db5-47d3-9e8c-d30fe9edc0b8",
   "metadata": {},
   "outputs": [
    {
     "data": {
      "text/plain": [
       "True"
      ]
     },
     "execution_count": 18,
     "metadata": {},
     "output_type": "execute_result"
    }
   ],
   "source": [
    "q1"
   ]
  },
  {
   "cell_type": "code",
   "execution_count": 19,
   "id": "72fd53fa-23f4-41a0-8727-040dd6633724",
   "metadata": {},
   "outputs": [
    {
     "data": {
      "text/plain": [
       "bool"
      ]
     },
     "execution_count": 19,
     "metadata": {},
     "output_type": "execute_result"
    }
   ],
   "source": [
    "type(q1)"
   ]
  },
  {
   "cell_type": "code",
   "execution_count": null,
   "id": "e5c2d002-744d-45ac-b953-af1c86bb0202",
   "metadata": {},
   "outputs": [],
   "source": []
  }
 ],
 "metadata": {
  "kernelspec": {
   "display_name": "Python 3 (ipykernel)",
   "language": "python",
   "name": "python3"
  },
  "language_info": {
   "codemirror_mode": {
    "name": "ipython",
    "version": 3
   },
   "file_extension": ".py",
   "mimetype": "text/x-python",
   "name": "python",
   "nbconvert_exporter": "python",
   "pygments_lexer": "ipython3",
   "version": "3.11.7"
  }
 },
 "nbformat": 4,
 "nbformat_minor": 5
}

{
 "cells": [
  {
   "cell_type": "code",
   "execution_count": null,
   "id": "ed6fdaf3-c4d4-4190-b6be-d134146dc6f2",
   "metadata": {},
   "outputs": [],
   "source": [
    "while condition\n",
    "    executable code1\n",
    "    executable code2\n",
    "    executable code3\n",
    "executable code4"
   ]
  },
  {
   "cell_type": "code",
   "execution_count": 1,
   "id": "bcb09b16-759d-45a7-bed9-8774dc1dea53",
   "metadata": {},
   "outputs": [
    {
     "name": "stdout",
     "output_type": "stream",
     "text": [
      "0\n",
      "1\n",
      "2\n",
      "3\n",
      "4\n",
      "5\n",
      "6\n",
      "7\n",
      "8\n",
      "9\n",
      "10\n",
      "11\n",
      "Hello\n"
     ]
    }
   ],
   "source": [
    "counter = 0\n",
    "while counter < 12:\n",
    "    print(counter)\n",
    "    counter = counter + 1  \n",
    "print(\"Hello\")"
   ]
  },
  {
   "cell_type": "code",
   "execution_count": 8,
   "id": "cd67f04f-671a-4814-93f1-a04f4a9b8922",
   "metadata": {},
   "outputs": [
    {
     "name": "stdout",
     "output_type": "stream",
     "text": [
      "0 Hello Arun\n",
      "1 Hello Arun\n",
      "2 Hello Arun\n",
      "3 Hello Arun\n",
      "4 Hello Arun\n"
     ]
    }
   ],
   "source": [
    "for i in range(5):\n",
    "    print(str(i) + \" \" + \"Hello Arun\")\n",
    "    "
   ]
  },
  {
   "cell_type": "code",
   "execution_count": 9,
   "id": "5e1bbf2f-193d-4360-9d08-7eeb1d6ecaac",
   "metadata": {},
   "outputs": [
    {
     "data": {
      "text/plain": [
       "range(0, 5)"
      ]
     },
     "execution_count": 9,
     "metadata": {},
     "output_type": "execute_result"
    }
   ],
   "source": [
    "range(5)"
   ]
  },
  {
   "cell_type": "code",
   "execution_count": 10,
   "id": "27ed2cd0-07bf-488a-891c-b31c392a67da",
   "metadata": {},
   "outputs": [
    {
     "data": {
      "text/plain": [
       "[0, 1, 2, 3, 4]"
      ]
     },
     "execution_count": 10,
     "metadata": {},
     "output_type": "execute_result"
    }
   ],
   "source": [
    "list(range(5))"
   ]
  },
  {
   "cell_type": "code",
   "execution_count": 13,
   "id": "eee31a32-7e88-4704-b19c-9da098b2bc1e",
   "metadata": {},
   "outputs": [
    {
     "name": "stdout",
     "output_type": "stream",
     "text": [
      "Hey Arun:  0\n",
      "Second Line\n",
      "Hey Arun:  1\n",
      "Second Line\n",
      "Hey Arun:  2\n",
      "Second Line\n",
      "Hey Arun:  3\n",
      "Second Line\n",
      "Hey Arun:  4\n",
      "Second Line\n"
     ]
    }
   ],
   "source": [
    "for i in range(5):\n",
    "    print(\"Hey Arun: \", i)\n",
    "    print(\"Second Line\")"
   ]
  },
  {
   "cell_type": "code",
   "execution_count": 14,
   "id": "0cc6db89-8dec-4e94-a495-176a491eab35",
   "metadata": {},
   "outputs": [],
   "source": [
    "myList = [10, 100, 1000]"
   ]
  },
  {
   "cell_type": "code",
   "execution_count": 15,
   "id": "bf5ee135-70c9-4702-bcfa-668ec8a68511",
   "metadata": {},
   "outputs": [
    {
     "data": {
      "text/plain": [
       "[10, 100, 1000]"
      ]
     },
     "execution_count": 15,
     "metadata": {},
     "output_type": "execute_result"
    }
   ],
   "source": [
    "myList"
   ]
  },
  {
   "cell_type": "code",
   "execution_count": 17,
   "id": "1aca49d7-13b7-44a0-8ec1-a096b11427bc",
   "metadata": {},
   "outputs": [
    {
     "name": "stdout",
     "output_type": "stream",
     "text": [
      "j equals to:  10\n",
      "j equals to:  100\n",
      "j equals to:  1000\n"
     ]
    }
   ],
   "source": [
    "for j in myList:\n",
    "    print(\"j equals to: \", j)"
   ]
  },
  {
   "cell_type": "code",
   "execution_count": null,
   "id": "7f220a0a-5eac-4dff-b576-7e635bdd5938",
   "metadata": {},
   "outputs": [],
   "source": []
  }
 ],
 "metadata": {
  "kernelspec": {
   "display_name": "Python 3 (ipykernel)",
   "language": "python",
   "name": "python3"
  },
  "language_info": {
   "codemirror_mode": {
    "name": "ipython",
    "version": 3
   },
   "file_extension": ".py",
   "mimetype": "text/x-python",
   "name": "python",
   "nbconvert_exporter": "python",
   "pygments_lexer": "ipython3",
   "version": "3.11.7"
  }
 },
 "nbformat": 4,
 "nbformat_minor": 5
}

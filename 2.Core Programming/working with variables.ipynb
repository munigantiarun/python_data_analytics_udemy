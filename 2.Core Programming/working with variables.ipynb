{
 "cells": [
  {
   "cell_type": "code",
   "execution_count": 2,
   "id": "8ca705c9-8bb6-42f7-b319-c7d0ab3ae09f",
   "metadata": {},
   "outputs": [],
   "source": [
    "A = 10"
   ]
  },
  {
   "cell_type": "code",
   "execution_count": 3,
   "id": "8711920d-4666-43ff-8dbf-693392c18fd9",
   "metadata": {},
   "outputs": [],
   "source": [
    "B = 5"
   ]
  },
  {
   "cell_type": "code",
   "execution_count": 4,
   "id": "7aced7b2-b366-4483-8b5d-9e853514d7a8",
   "metadata": {},
   "outputs": [],
   "source": [
    "#arithmetics"
   ]
  },
  {
   "cell_type": "code",
   "execution_count": 5,
   "id": "f2103add-470e-483b-a5ce-8b4870780ceb",
   "metadata": {},
   "outputs": [],
   "source": [
    "C = A + B"
   ]
  },
  {
   "cell_type": "code",
   "execution_count": 6,
   "id": "0a9eee6b-5006-4002-a80f-ffe2f82e7656",
   "metadata": {},
   "outputs": [],
   "source": [
    "D = B / A"
   ]
  },
  {
   "cell_type": "code",
   "execution_count": 7,
   "id": "cf8c873c-366e-4e6f-b781-9575015d668b",
   "metadata": {},
   "outputs": [
    {
     "data": {
      "text/plain": [
       "15"
      ]
     },
     "execution_count": 7,
     "metadata": {},
     "output_type": "execute_result"
    }
   ],
   "source": [
    "C"
   ]
  },
  {
   "cell_type": "code",
   "execution_count": 8,
   "id": "258e81d1-141a-43b4-9ffc-1fbce0b43860",
   "metadata": {},
   "outputs": [
    {
     "data": {
      "text/plain": [
       "0.5"
      ]
     },
     "execution_count": 8,
     "metadata": {},
     "output_type": "execute_result"
    }
   ],
   "source": [
    "D"
   ]
  },
  {
   "cell_type": "code",
   "execution_count": 9,
   "id": "efb476d4-f0d6-4961-9d62-407fd011f5b5",
   "metadata": {},
   "outputs": [
    {
     "data": {
      "text/plain": [
       "0.5"
      ]
     },
     "execution_count": 9,
     "metadata": {},
     "output_type": "execute_result"
    }
   ],
   "source": [
    "C\n",
    "D"
   ]
  },
  {
   "cell_type": "code",
   "execution_count": 10,
   "id": "6d42da87-c1a7-4bd9-9e2a-edc1ef1dadaf",
   "metadata": {},
   "outputs": [
    {
     "name": "stdout",
     "output_type": "stream",
     "text": [
      "15\n",
      "0.5\n"
     ]
    }
   ],
   "source": [
    "print(C)\n",
    "print(D)"
   ]
  },
  {
   "cell_type": "code",
   "execution_count": 11,
   "id": "2bb984c7-7a0b-473d-93e9-75aef36f04f8",
   "metadata": {},
   "outputs": [],
   "source": [
    "import math"
   ]
  },
  {
   "cell_type": "code",
   "execution_count": 12,
   "id": "856f48f8-3b8d-4905-be9e-ee18d8857136",
   "metadata": {},
   "outputs": [
    {
     "data": {
      "text/plain": [
       "3.1622776601683795"
      ]
     },
     "execution_count": 12,
     "metadata": {},
     "output_type": "execute_result"
    }
   ],
   "source": [
    "math.sqrt(A)"
   ]
  },
  {
   "cell_type": "code",
   "execution_count": 15,
   "id": "6399ea29-6574-4be0-b558-0ca25b4b7b9c",
   "metadata": {},
   "outputs": [
    {
     "data": {
      "text/plain": [
       "3"
      ]
     },
     "execution_count": 15,
     "metadata": {},
     "output_type": "execute_result"
    }
   ],
   "source": [
    "round(math.sqrt(A))"
   ]
  },
  {
   "cell_type": "code",
   "execution_count": 18,
   "id": "d9781041-3c1b-4b66-a581-c03aef93008a",
   "metadata": {},
   "outputs": [],
   "source": [
    "greeting = \"Hello\"\n",
    "name = \"Arun\""
   ]
  },
  {
   "cell_type": "code",
   "execution_count": 19,
   "id": "8f86420e-dddb-42b4-aa2d-799214cdd8f1",
   "metadata": {},
   "outputs": [],
   "source": [
    "message = greeting + \" \" + name\n"
   ]
  },
  {
   "cell_type": "code",
   "execution_count": 20,
   "id": "4999cae9-28cc-4ca8-a173-03985fc2b1c5",
   "metadata": {},
   "outputs": [
    {
     "name": "stdout",
     "output_type": "stream",
     "text": [
      "Hello Arun\n"
     ]
    }
   ],
   "source": [
    "print(message)"
   ]
  },
  {
   "cell_type": "code",
   "execution_count": 22,
   "id": "ac437aa0-1f91-4621-be9e-ba56212c7af1",
   "metadata": {},
   "outputs": [],
   "source": [
    "#Boolean / Logical\n",
    "#True\n",
    "#False"
   ]
  },
  {
   "cell_type": "markdown",
   "id": "cb9263f3-a9ea-4272-a5f7-e362925c1573",
   "metadata": {},
   "source": []
  },
  {
   "cell_type": "code",
   "execution_count": 23,
   "id": "d89a7550-6e21-4582-a33d-c89f4e7f976e",
   "metadata": {},
   "outputs": [
    {
     "data": {
      "text/plain": [
       "True"
      ]
     },
     "execution_count": 23,
     "metadata": {},
     "output_type": "execute_result"
    }
   ],
   "source": [
    "4<5"
   ]
  },
  {
   "cell_type": "code",
   "execution_count": 24,
   "id": "d8ac905d-a6be-4fb0-b4c4-ba0cf95eef3b",
   "metadata": {},
   "outputs": [
    {
     "data": {
      "text/plain": [
       "False"
      ]
     },
     "execution_count": 24,
     "metadata": {},
     "output_type": "execute_result"
    }
   ],
   "source": [
    "10 >100"
   ]
  },
  {
   "cell_type": "code",
   "execution_count": 25,
   "id": "5ff98ece-ffc0-44d3-a7b1-90e57ab096a5",
   "metadata": {},
   "outputs": [
    {
     "data": {
      "text/plain": [
       "False"
      ]
     },
     "execution_count": 25,
     "metadata": {},
     "output_type": "execute_result"
    }
   ],
   "source": [
    "4  == 5"
   ]
  },
  {
   "cell_type": "code",
   "execution_count": 27,
   "id": "a5aecf4d-3f57-4112-9578-fe32a1c6a186",
   "metadata": {},
   "outputs": [],
   "source": [
    "# ==\n",
    "# != <>\n",
    "# <\n",
    "# >\n",
    "# >=\n",
    "# <=\n",
    "# and\n",
    "# or\n",
    "# not\n"
   ]
  },
  {
   "cell_type": "code",
   "execution_count": 28,
   "id": "1d358d29-b17e-433a-9816-f61095598dfc",
   "metadata": {},
   "outputs": [],
   "source": [
    "result = 4<5"
   ]
  },
  {
   "cell_type": "code",
   "execution_count": 29,
   "id": "f99f8b8c-5105-40d5-9133-748cabf3706b",
   "metadata": {},
   "outputs": [
    {
     "data": {
      "text/plain": [
       "True"
      ]
     },
     "execution_count": 29,
     "metadata": {},
     "output_type": "execute_result"
    }
   ],
   "source": [
    "result"
   ]
  },
  {
   "cell_type": "code",
   "execution_count": 31,
   "id": "51d72372-f5e9-4124-9738-3dd619cdceb5",
   "metadata": {},
   "outputs": [
    {
     "data": {
      "text/plain": [
       "bool"
      ]
     },
     "execution_count": 31,
     "metadata": {},
     "output_type": "execute_result"
    }
   ],
   "source": [
    "type(result)"
   ]
  },
  {
   "cell_type": "code",
   "execution_count": 32,
   "id": "2ae23f6f-315a-4d41-baa4-491436b7fb2f",
   "metadata": {},
   "outputs": [],
   "source": [
    "result2 = not(5>1)"
   ]
  },
  {
   "cell_type": "code",
   "execution_count": 33,
   "id": "87e2af63-61b9-482e-b6ef-1305f1861b1a",
   "metadata": {},
   "outputs": [
    {
     "data": {
      "text/plain": [
       "False"
      ]
     },
     "execution_count": 33,
     "metadata": {},
     "output_type": "execute_result"
    }
   ],
   "source": [
    "result2"
   ]
  },
  {
   "cell_type": "code",
   "execution_count": 34,
   "id": "da568a89-6bea-4769-ad5b-b787216ef02b",
   "metadata": {},
   "outputs": [
    {
     "data": {
      "text/plain": [
       "True"
      ]
     },
     "execution_count": 34,
     "metadata": {},
     "output_type": "execute_result"
    }
   ],
   "source": [
    "result or result2"
   ]
  },
  {
   "cell_type": "code",
   "execution_count": 35,
   "id": "bab609f1-9cf9-4a03-89c7-db5fe4d2b9e6",
   "metadata": {},
   "outputs": [
    {
     "data": {
      "text/plain": [
       "False"
      ]
     },
     "execution_count": 35,
     "metadata": {},
     "output_type": "execute_result"
    }
   ],
   "source": [
    "result and result2"
   ]
  },
  {
   "cell_type": "code",
   "execution_count": null,
   "id": "d25a666d-5d90-4d90-9706-1b687b79c6f8",
   "metadata": {},
   "outputs": [],
   "source": []
  }
 ],
 "metadata": {
  "kernelspec": {
   "display_name": "Python 3 (ipykernel)",
   "language": "python",
   "name": "python3"
  },
  "language_info": {
   "codemirror_mode": {
    "name": "ipython",
    "version": 3
   },
   "file_extension": ".py",
   "mimetype": "text/x-python",
   "name": "python",
   "nbconvert_exporter": "python",
   "pygments_lexer": "ipython3",
   "version": "3.11.7"
  }
 },
 "nbformat": 4,
 "nbformat_minor": 5
}

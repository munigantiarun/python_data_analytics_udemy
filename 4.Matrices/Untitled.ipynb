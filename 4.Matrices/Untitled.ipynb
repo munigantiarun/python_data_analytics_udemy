{
 "cells": [
  {
   "cell_type": "code",
   "execution_count": 4,
   "id": "8c228633-8051-4714-80b5-ebfeda78b268",
   "metadata": {},
   "outputs": [
    {
     "name": "stdout",
     "output_type": "stream",
     "text": [
      "Element is not present in array\n"
     ]
    }
   ],
   "source": [
    "# Python3 code to linearly search x in arr[].\n",
    "\n",
    "\n",
    "def search(arr, N, x):\n",
    "\n",
    "    for i in range(0, N):\n",
    "        if (arr[i] == x):\n",
    "            return i\n",
    "    return -1\n",
    "\n",
    "\n",
    "# Driver Code\n",
    "if __name__ == \"__main__\":\n",
    "    arr = [5, 7, 11, 16, 20, 25, 30, 34, 40, 44, 50, 58, 67, 70, 75]\n",
    "    x = 10\n",
    "    N = len(arr)\n",
    "\n",
    "    # Function call\n",
    "    result = search(arr, N, x)\n",
    "    if(result == -1):\n",
    "        print(\"Element is not present in array\")\n",
    "    else:\n",
    "        print(\"Element is present at index\", result)"
   ]
  },
  {
   "cell_type": "code",
   "execution_count": null,
   "id": "d0d28713-d409-4530-860e-dfad1ca5940f",
   "metadata": {},
   "outputs": [],
   "source": []
  }
 ],
 "metadata": {
  "kernelspec": {
   "display_name": "Python 3 (ipykernel)",
   "language": "python",
   "name": "python3"
  },
  "language_info": {
   "codemirror_mode": {
    "name": "ipython",
    "version": 3
   },
   "file_extension": ".py",
   "mimetype": "text/x-python",
   "name": "python",
   "nbconvert_exporter": "python",
   "pygments_lexer": "ipython3",
   "version": "3.11.7"
  }
 },
 "nbformat": 4,
 "nbformat_minor": 5
}

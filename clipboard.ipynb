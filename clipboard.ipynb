{
 "cells": [
  {
   "cell_type": "code",
   "execution_count": 10,
   "id": "411d49cf-33b4-4d48-8994-a7c4703a4e4b",
   "metadata": {},
   "outputs": [],
   "source": [
    "import numpy as np\n",
    "matrix1 = np.array([1,2,3,4])\n",
    "matrix2 = np.array([ [1,2,3,4], [5,6,7,8] ])\n",
    "matrix3 = np.array([ [ [1,2,3,4],[5,6,7,8] ], [ [6,7,9,4],[2,0,3,4] ] ])"
   ]
  },
  {
   "cell_type": "code",
   "execution_count": 13,
   "id": "37a8c8e3-9caf-47f9-b1c7-05bb55fb2dda",
   "metadata": {},
   "outputs": [
    {
     "name": "stdout",
     "output_type": "stream",
     "text": [
      "(2, 2, 4)\n"
     ]
    }
   ],
   "source": [
    "print(matrix3.shape)"
   ]
  },
  {
   "cell_type": "code",
   "execution_count": null,
   "id": "b1bc0896-1b62-4db4-8a5d-4d6eebdae822",
   "metadata": {},
   "outputs": [],
   "source": []
  },
  {
   "cell_type": "code",
   "execution_count": null,
   "id": "b2234b35-9b67-46d8-977f-17c4f174ce46",
   "metadata": {},
   "outputs": [],
   "source": []
  }
 ],
 "metadata": {
  "kernelspec": {
   "display_name": "Python 3 (ipykernel)",
   "language": "python",
   "name": "python3"
  },
  "language_info": {
   "codemirror_mode": {
    "name": "ipython",
    "version": 3
   },
   "file_extension": ".py",
   "mimetype": "text/x-python",
   "name": "python",
   "nbconvert_exporter": "python",
   "pygments_lexer": "ipython3",
   "version": "3.11.7"
  }
 },
 "nbformat": 4,
 "nbformat_minor": 5
}

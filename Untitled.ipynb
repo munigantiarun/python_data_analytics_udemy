{
 "cells": [
  {
   "cell_type": "code",
   "execution_count": 1,
   "id": "060d543d-b8bb-449b-bd75-3ef6b37e98f4",
   "metadata": {},
   "outputs": [
    {
     "name": "stdout",
     "output_type": "stream",
     "text": [
      "Sherlock is ill\n",
      "A doctor has been called to 221B Baker St\n",
      "Sherlock is ill\n"
     ]
    }
   ],
   "source": [
    "class Event(list):\n",
    "    def __call__(self, *args, **kwargs):\n",
    "        for item in self:\n",
    "            item(*args, **kwargs)\n",
    "\n",
    "\n",
    "class Person:\n",
    "    def __init__(self, name, address):\n",
    "        self.name = name\n",
    "        self.address = address\n",
    "        self.falls_ill = Event()\n",
    "\n",
    "    def catch_a_cold(self):\n",
    "        self.falls_ill(self.name, self.address)\n",
    "\n",
    "\n",
    "def call_doctor(name, address):\n",
    "    print(f'A doctor has been called to {address}')\n",
    "\n",
    "if __name__ == '__main__':\n",
    "    person = Person('Sherlock', '221B Baker St')\n",
    "\n",
    "    person.falls_ill.append(lambda name, addr: print(f'{name} is ill'))\n",
    "\n",
    "    person.falls_ill.append(call_doctor)\n",
    "\n",
    "    person.catch_a_cold()\n",
    "\n",
    "    # and you can remove subscriptions too\n",
    "    person.falls_ill.remove(call_doctor)\n",
    "    person.catch_a_cold()"
   ]
  },
  {
   "cell_type": "code",
   "execution_count": 2,
   "id": "3fdde7ae-c8cc-463a-8639-b3ee09f40b2c",
   "metadata": {},
   "outputs": [
    {
     "name": "stdout",
     "output_type": "stream",
     "text": [
      "Setting age to 14\n",
      "Sorry, you still cannot drive\n",
      "Setting age to 15\n",
      "Sorry, you still cannot drive\n",
      "Setting age to 16\n",
      "Okay, you can drive now\n",
      "Setting age to 17\n",
      "Setting age to 18\n",
      "Setting age to 19\n"
     ]
    }
   ],
   "source": [
    "class Event(list):\n",
    "  def __call__(self, *args, **kwargs):\n",
    "    for item in self:\n",
    "      item(*args, **kwargs)\n",
    "\n",
    "\n",
    "class PropertyObservable:\n",
    "  def __init__(self):\n",
    "    self.property_changed = Event()\n",
    "\n",
    "\n",
    "class Person(PropertyObservable):\n",
    "  def __init__(self, age=0):\n",
    "    super().__init__()\n",
    "    self._age = age\n",
    "\n",
    "  @property\n",
    "  def age(self):\n",
    "    return self._age\n",
    "\n",
    "  @age.setter\n",
    "  def age(self, value):\n",
    "    if self._age == value:\n",
    "      return\n",
    "    self._age = value\n",
    "    self.property_changed('age', value)\n",
    "\n",
    "\n",
    "class TrafficAuthority:\n",
    "  def __init__(self, person):\n",
    "    self.person = person\n",
    "    person.property_changed.append(self.person_changed)\n",
    "\n",
    "  def person_changed(self, name, value):\n",
    "    if name == 'age':\n",
    "      if value < 16:\n",
    "        print('Sorry, you still cannot drive')\n",
    "      else:\n",
    "        print('Okay, you can drive now')\n",
    "        self.person.property_changed.remove(\n",
    "          self.person_changed\n",
    "        )\n",
    "\n",
    "\n",
    "if __name__ == '__main__':\n",
    "  p = Person()\n",
    "  ta = TrafficAuthority(p)\n",
    "  for age in range(14, 20):\n",
    "    print(f'Setting age to {age}')\n",
    "    p.age = age"
   ]
  },
  {
   "cell_type": "code",
   "execution_count": null,
   "id": "bdb20299-e004-4d20-b2be-6b0ff305d0a2",
   "metadata": {},
   "outputs": [],
   "source": []
  }
 ],
 "metadata": {
  "kernelspec": {
   "display_name": "Python 3 (ipykernel)",
   "language": "python",
   "name": "python3"
  },
  "language_info": {
   "codemirror_mode": {
    "name": "ipython",
    "version": 3
   },
   "file_extension": ".py",
   "mimetype": "text/x-python",
   "name": "python",
   "nbconvert_exporter": "python",
   "pygments_lexer": "ipython3",
   "version": "3.11.7"
  }
 },
 "nbformat": 4,
 "nbformat_minor": 5
}

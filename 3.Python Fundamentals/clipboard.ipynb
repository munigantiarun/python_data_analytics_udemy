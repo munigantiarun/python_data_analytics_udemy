{
 "cells": [
  {
   "cell_type": "markdown",
   "id": "190ceb3b-abfd-4de0-a3d3-22b568fad705",
   "metadata": {},
   "source": [
    "### clipboard"
   ]
  },
  {
   "cell_type": "code",
   "execution_count": 4,
   "id": "c03541a8-8005-443d-b7b2-7aea443dd4f5",
   "metadata": {},
   "outputs": [
    {
     "name": "stdout",
     "output_type": "stream",
     "text": [
      "i5, 16GB, 1TB\n"
     ]
    }
   ],
   "source": [
    "class computer:\n",
    "    def config(self):\n",
    "        print(\"i5, 16GB, 1TB\")\n",
    "\n",
    "com = computer()\n",
    "computer.config(com)"
   ]
  },
  {
   "cell_type": "code",
   "execution_count": null,
   "id": "d72f1987-5712-4057-ad11-3e45e71b5fb3",
   "metadata": {},
   "outputs": [],
   "source": []
  }
 ],
 "metadata": {
  "kernelspec": {
   "display_name": "Python 3 (ipykernel)",
   "language": "python",
   "name": "python3"
  },
  "language_info": {
   "codemirror_mode": {
    "name": "ipython",
    "version": 3
   },
   "file_extension": ".py",
   "mimetype": "text/x-python",
   "name": "python",
   "nbconvert_exporter": "python",
   "pygments_lexer": "ipython3",
   "version": "3.11.7"
  }
 },
 "nbformat": 4,
 "nbformat_minor": 5
}

{
 "cells": [
  {
   "cell_type": "code",
   "execution_count": 1,
   "id": "9eca2afa-3f85-49ff-b987-98f045b101a7",
   "metadata": {},
   "outputs": [
    {
     "data": {
      "text/plain": [
       "range(20, 42)"
      ]
     },
     "execution_count": 1,
     "metadata": {},
     "output_type": "execute_result"
    }
   ],
   "source": [
    "range(20,42)"
   ]
  },
  {
   "cell_type": "code",
   "execution_count": 4,
   "id": "eed4129a-1920-4235-b675-af66aa08e3e2",
   "metadata": {},
   "outputs": [
    {
     "data": {
      "text/plain": [
       "[20, 21, 22, 23, 24, 25, 26, 27, 28, 29, 30, 31]"
      ]
     },
     "execution_count": 4,
     "metadata": {},
     "output_type": "execute_result"
    }
   ],
   "source": [
    "#take the range and parse into list\n",
    "list(range(20,32))"
   ]
  },
  {
   "cell_type": "code",
   "execution_count": 5,
   "id": "85e3a350-f80b-4791-b8dd-89c2eb583017",
   "metadata": {},
   "outputs": [],
   "source": [
    "myList1 = list(range(20,32))"
   ]
  },
  {
   "cell_type": "code",
   "execution_count": 6,
   "id": "4c3c7f52-f604-462d-86e4-64e01fe3db58",
   "metadata": {},
   "outputs": [
    {
     "data": {
      "text/plain": [
       "[20, 21, 22, 23, 24, 25, 26, 27, 28, 29, 30, 31]"
      ]
     },
     "execution_count": 6,
     "metadata": {},
     "output_type": "execute_result"
    }
   ],
   "source": [
    "myList1"
   ]
  },
  {
   "cell_type": "code",
   "execution_count": 7,
   "id": "7a656878-4387-4d44-be9f-9106091358a8",
   "metadata": {},
   "outputs": [
    {
     "data": {
      "text/plain": [
       "12"
      ]
     },
     "execution_count": 7,
     "metadata": {},
     "output_type": "execute_result"
    }
   ],
   "source": [
    "len(myList1)"
   ]
  },
  {
   "cell_type": "code",
   "execution_count": null,
   "id": "37389ddf-0662-4cb8-8269-b125f5267040",
   "metadata": {},
   "outputs": [],
   "source": [
    "type(myLi)"
   ]
  },
  {
   "cell_type": "code",
   "execution_count": null,
   "id": "4ab6cc09-51df-4759-bf8d-375116dd25d7",
   "metadata": {},
   "outputs": [],
   "source": []
  }
 ],
 "metadata": {
  "kernelspec": {
   "display_name": "Python 3 (ipykernel)",
   "language": "python",
   "name": "python3"
  },
  "language_info": {
   "codemirror_mode": {
    "name": "ipython",
    "version": 3
   },
   "file_extension": ".py",
   "mimetype": "text/x-python",
   "name": "python",
   "nbconvert_exporter": "python",
   "pygments_lexer": "ipython3",
   "version": "3.11.7"
  }
 },
 "nbformat": 4,
 "nbformat_minor": 5
}

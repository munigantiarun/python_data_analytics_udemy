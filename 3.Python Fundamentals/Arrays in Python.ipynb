{
 "cells": [
  {
   "cell_type": "code",
   "execution_count": 28,
   "id": "a65220e0-1b62-4215-9a73-824efb0c21c7",
   "metadata": {},
   "outputs": [],
   "source": [
    "list = [2323,27, 2323, 454, -1234]"
   ]
  },
  {
   "cell_type": "code",
   "execution_count": 29,
   "id": "f22a2fe6-62b1-41f9-bfb8-e5120f68e644",
   "metadata": {},
   "outputs": [
    {
     "data": {
      "text/plain": [
       "[2323, 27, 2323, 454, -1234]"
      ]
     },
     "execution_count": 29,
     "metadata": {},
     "output_type": "execute_result"
    }
   ],
   "source": [
    "list"
   ]
  },
  {
   "cell_type": "code",
   "execution_count": 30,
   "id": "d0dfeb43-ff65-4e57-be4e-b8ae40e10493",
   "metadata": {},
   "outputs": [],
   "source": [
    "import numpy as np"
   ]
  },
  {
   "cell_type": "code",
   "execution_count": 31,
   "id": "93d49a14-f974-4968-99b1-31e19ef37870",
   "metadata": {},
   "outputs": [],
   "source": [
    "a = np.array(list)"
   ]
  },
  {
   "cell_type": "code",
   "execution_count": 32,
   "id": "d19e5166-05d9-4bb8-8491-e8df79bc0183",
   "metadata": {},
   "outputs": [
    {
     "data": {
      "text/plain": [
       "array([ 2323,    27,  2323,   454, -1234])"
      ]
     },
     "execution_count": 32,
     "metadata": {},
     "output_type": "execute_result"
    }
   ],
   "source": [
    "a"
   ]
  },
  {
   "cell_type": "raw",
   "id": "ace0bc95-0d70-412d-8e02-6afc245613b7",
   "metadata": {},
   "source": []
  },
  {
   "cell_type": "code",
   "execution_count": 33,
   "id": "a24a3401-5e6f-4fcf-a3d5-eaf1fd0d5de6",
   "metadata": {},
   "outputs": [],
   "source": [
    "b = np.array([12, 345, 65, 75.5, True, \"Abc\"])"
   ]
  },
  {
   "cell_type": "code",
   "execution_count": 34,
   "id": "3d3c9cb1-4441-43fd-aa3b-a8e0504eb208",
   "metadata": {},
   "outputs": [
    {
     "data": {
      "text/plain": [
       "array(['12', '345', '65', '75.5', 'True', 'Abc'], dtype='<U32')"
      ]
     },
     "execution_count": 34,
     "metadata": {},
     "output_type": "execute_result"
    }
   ],
   "source": [
    "b"
   ]
  },
  {
   "cell_type": "code",
   "execution_count": 35,
   "id": "04bf5fab-3ba9-4ab1-8faf-b0b99cc1fe2a",
   "metadata": {},
   "outputs": [
    {
     "name": "stdout",
     "output_type": "stream",
     "text": [
      "['12' '345' '65' '75.5' 'True' 'Abc']\n"
     ]
    }
   ],
   "source": [
    "print(b)"
   ]
  },
  {
   "cell_type": "code",
   "execution_count": 36,
   "id": "e85c8371-ec03-4a1c-af31-b4aee9711aa4",
   "metadata": {},
   "outputs": [
    {
     "data": {
      "text/plain": [
       "-1234"
      ]
     },
     "execution_count": 36,
     "metadata": {},
     "output_type": "execute_result"
    }
   ],
   "source": [
    "list.pop()"
   ]
  },
  {
   "cell_type": "code",
   "execution_count": 37,
   "id": "501e6f41-5e46-4cd6-a305-112ee41111ff",
   "metadata": {},
   "outputs": [
    {
     "data": {
      "text/plain": [
       "[2323, 27, 2323, 454]"
      ]
     },
     "execution_count": 37,
     "metadata": {},
     "output_type": "execute_result"
    }
   ],
   "source": [
    "list"
   ]
  },
  {
   "cell_type": "code",
   "execution_count": 38,
   "id": "ddc62df0-551b-47d2-955e-f63a7ab7ef5f",
   "metadata": {},
   "outputs": [
    {
     "data": {
      "text/plain": [
       "778.6"
      ]
     },
     "execution_count": 38,
     "metadata": {},
     "output_type": "execute_result"
    }
   ],
   "source": [
    "a.mean()"
   ]
  },
  {
   "cell_type": "code",
   "execution_count": 39,
   "id": "05784d6c-0206-4e25-a281-1af24c706faf",
   "metadata": {},
   "outputs": [],
   "source": [
    "#SLICING OF ARRAYS"
   ]
  },
  {
   "cell_type": "code",
   "execution_count": 40,
   "id": "d275799e-289c-43ba-ba58-28422e8a0214",
   "metadata": {},
   "outputs": [
    {
     "data": {
      "text/plain": [
       "[2323, 27, 2323, 454]"
      ]
     },
     "execution_count": 40,
     "metadata": {},
     "output_type": "execute_result"
    }
   ],
   "source": [
    "list[0:]"
   ]
  },
  {
   "cell_type": "code",
   "execution_count": 41,
   "id": "17f21f10-8317-4db9-b976-d8bad8131e8e",
   "metadata": {},
   "outputs": [
    {
     "data": {
      "text/plain": [
       "[2323, 27]"
      ]
     },
     "execution_count": 41,
     "metadata": {},
     "output_type": "execute_result"
    }
   ],
   "source": [
    "list[:2]"
   ]
  },
  {
   "cell_type": "code",
   "execution_count": 42,
   "id": "d1cf0859-cae8-4554-bb48-59773dbe9aeb",
   "metadata": {},
   "outputs": [
    {
     "data": {
      "text/plain": [
       "[2323, 2323]"
      ]
     },
     "execution_count": 42,
     "metadata": {},
     "output_type": "execute_result"
    }
   ],
   "source": [
    "list[::2]"
   ]
  },
  {
   "cell_type": "code",
   "execution_count": 43,
   "id": "00460236-444e-45fe-bb21-b10a9993027f",
   "metadata": {},
   "outputs": [
    {
     "data": {
      "text/plain": [
       "array([ 2323,   454, -1234])"
      ]
     },
     "execution_count": 43,
     "metadata": {},
     "output_type": "execute_result"
    }
   ],
   "source": [
    "a[2:]"
   ]
  },
  {
   "cell_type": "code",
   "execution_count": null,
   "id": "b8f7c34f-74dd-4908-b690-1dcfd086c5f7",
   "metadata": {},
   "outputs": [],
   "source": []
  }
 ],
 "metadata": {
  "kernelspec": {
   "display_name": "Python 3 (ipykernel)",
   "language": "python",
   "name": "python3"
  },
  "language_info": {
   "codemirror_mode": {
    "name": "ipython",
    "version": 3
   },
   "file_extension": ".py",
   "mimetype": "text/x-python",
   "name": "python",
   "nbconvert_exporter": "python",
   "pygments_lexer": "ipython3",
   "version": "3.11.7"
  }
 },
 "nbformat": 4,
 "nbformat_minor": 5
}

{
 "cells": [
  {
   "cell_type": "code",
   "execution_count": null,
   "id": "37ae70ea-9108-488a-a69c-b145338cd4f9",
   "metadata": {},
   "outputs": [],
   "source": [
    "#In Python LISTS - we can have mixed data types.. where arrays can have only one Datatypes.\n",
    "\n",
    "#   0     1     2    3     4     5      6 \n",
    "#  \"A\"  \"Hey\"   7  True  27.5   \"A\"   -100 \n"
   ]
  },
  {
   "cell_type": "code",
   "execution_count": 14,
   "id": "0dc013da-e29b-4794-83b0-6851d0b510e9",
   "metadata": {},
   "outputs": [],
   "source": [
    "MyList = [ 3, 39, 32, 722]"
   ]
  },
  {
   "cell_type": "code",
   "execution_count": 15,
   "id": "7eed1e2a-7b28-40cb-9ed2-0824ef4bbc5c",
   "metadata": {},
   "outputs": [
    {
     "data": {
      "text/plain": [
       "[3, 39, 32, 722]"
      ]
     },
     "execution_count": 15,
     "metadata": {},
     "output_type": "execute_result"
    }
   ],
   "source": [
    "MyList"
   ]
  },
  {
   "cell_type": "code",
   "execution_count": 21,
   "id": "7a7d8dab-b5b0-47b0-8a21-f4f0b22c969a",
   "metadata": {},
   "outputs": [
    {
     "data": {
      "text/plain": [
       "list"
      ]
     },
     "execution_count": 21,
     "metadata": {},
     "output_type": "execute_result"
    }
   ],
   "source": [
    "type(MyList)"
   ]
  },
  {
   "cell_type": "code",
   "execution_count": 22,
   "id": "684488de-dbcd-45af-948b-f74c438ee03a",
   "metadata": {},
   "outputs": [],
   "source": [
    "l2 = [\"Hello\", 12, True, 33.9]"
   ]
  },
  {
   "cell_type": "code",
   "execution_count": 23,
   "id": "f7fe148f-fdca-4710-8867-2090d57e624f",
   "metadata": {},
   "outputs": [
    {
     "data": {
      "text/plain": [
       "['Hello', 12, True, 33.9]"
      ]
     },
     "execution_count": 23,
     "metadata": {},
     "output_type": "execute_result"
    }
   ],
   "source": [
    "l2"
   ]
  },
  {
   "cell_type": "code",
   "execution_count": 24,
   "id": "72dc7a0e-8ecc-4fb3-8922-8b5025ac92aa",
   "metadata": {},
   "outputs": [],
   "source": [
    "#Lists can have another list as their element\n",
    "l3 = [\"Hey Arun\", 22, True, MyList]"
   ]
  },
  {
   "cell_type": "code",
   "execution_count": 25,
   "id": "59c74c4f-7fee-4321-a138-71ba6ed5bebe",
   "metadata": {},
   "outputs": [
    {
     "data": {
      "text/plain": [
       "['Hey Arun', 22, True, [3, 39, 32, 722]]"
      ]
     },
     "execution_count": 25,
     "metadata": {},
     "output_type": "execute_result"
    }
   ],
   "source": [
    "l3"
   ]
  },
  {
   "cell_type": "code",
   "execution_count": 26,
   "id": "d00508b5-5827-472f-88a2-20b5ea682d60",
   "metadata": {},
   "outputs": [
    {
     "data": {
      "text/plain": [
       "range(0, 15)"
      ]
     },
     "execution_count": 26,
     "metadata": {},
     "output_type": "execute_result"
    }
   ],
   "source": [
    "range(0,15)"
   ]
  },
  {
   "cell_type": "code",
   "execution_count": 27,
   "id": "0f693682-65a7-4fa5-a073-66ae64f6635a",
   "metadata": {},
   "outputs": [
    {
     "data": {
      "text/plain": [
       "[0, 1, 2, 3, 4, 5, 6, 7, 8, 9, 10, 11, 12, 13, 14]"
      ]
     },
     "execution_count": 27,
     "metadata": {},
     "output_type": "execute_result"
    }
   ],
   "source": [
    "list(range(15))"
   ]
  },
  {
   "cell_type": "code",
   "execution_count": 28,
   "id": "e8ed0ea4-bed2-4bf7-9bd4-952710623409",
   "metadata": {},
   "outputs": [],
   "source": [
    "y = list(range(8))"
   ]
  },
  {
   "cell_type": "code",
   "execution_count": 29,
   "id": "d4487451-0e1f-430e-89e4-47c7a105a97f",
   "metadata": {},
   "outputs": [
    {
     "data": {
      "text/plain": [
       "[0, 1, 2, 3, 4, 5, 6, 7]"
      ]
     },
     "execution_count": 29,
     "metadata": {},
     "output_type": "execute_result"
    }
   ],
   "source": [
    "y"
   ]
  },
  {
   "cell_type": "code",
   "execution_count": 30,
   "id": "99e99b91-fb3f-45d2-a3f3-4f587229b1e2",
   "metadata": {},
   "outputs": [],
   "source": [
    "z1 = list(range(1,9))"
   ]
  },
  {
   "cell_type": "code",
   "execution_count": 31,
   "id": "fbe31b8b-c2b5-4de9-834f-53a1455f62f2",
   "metadata": {},
   "outputs": [
    {
     "data": {
      "text/plain": [
       "[1, 2, 3, 4, 5, 6, 7, 8]"
      ]
     },
     "execution_count": 31,
     "metadata": {},
     "output_type": "execute_result"
    }
   ],
   "source": [
    "z1"
   ]
  },
  {
   "cell_type": "code",
   "execution_count": 32,
   "id": "a72a19db-4522-491d-9ff0-e092b0bceaec",
   "metadata": {},
   "outputs": [],
   "source": [
    "z2 = list(range(100,120))"
   ]
  },
  {
   "cell_type": "code",
   "execution_count": 33,
   "id": "f92545c2-d572-4487-8af2-75517a96a119",
   "metadata": {},
   "outputs": [
    {
     "data": {
      "text/plain": [
       "[100,\n",
       " 101,\n",
       " 102,\n",
       " 103,\n",
       " 104,\n",
       " 105,\n",
       " 106,\n",
       " 107,\n",
       " 108,\n",
       " 109,\n",
       " 110,\n",
       " 111,\n",
       " 112,\n",
       " 113,\n",
       " 114,\n",
       " 115,\n",
       " 116,\n",
       " 117,\n",
       " 118,\n",
       " 119]"
      ]
     },
     "execution_count": 33,
     "metadata": {},
     "output_type": "execute_result"
    }
   ],
   "source": [
    "z2"
   ]
  },
  {
   "cell_type": "code",
   "execution_count": 1,
   "id": "351d20dd-7199-4319-9d71-f1c48a0e47bf",
   "metadata": {},
   "outputs": [],
   "source": [
    "w = ['a', 'b', 'c', 'd', 'e']"
   ]
  },
  {
   "cell_type": "code",
   "execution_count": 2,
   "id": "792fd76d-5fe6-4209-a801-a376369a2599",
   "metadata": {},
   "outputs": [
    {
     "data": {
      "text/plain": [
       "'b'"
      ]
     },
     "execution_count": 2,
     "metadata": {},
     "output_type": "execute_result"
    }
   ],
   "source": [
    "w[1]"
   ]
  },
  {
   "cell_type": "code",
   "execution_count": 3,
   "id": "713e6e5b-e4a1-4ea3-928c-a9e72df7bc5d",
   "metadata": {},
   "outputs": [
    {
     "data": {
      "text/plain": [
       "5"
      ]
     },
     "execution_count": 3,
     "metadata": {},
     "output_type": "execute_result"
    }
   ],
   "source": [
    "len(w)"
   ]
  },
  {
   "cell_type": "code",
   "execution_count": 5,
   "id": "fd913191-96fc-4d6e-a132-955adefeb1a9",
   "metadata": {},
   "outputs": [
    {
     "data": {
      "text/plain": [
       "['a', 'b', 'c', 'd', 'e']"
      ]
     },
     "execution_count": 5,
     "metadata": {},
     "output_type": "execute_result"
    }
   ],
   "source": [
    "w"
   ]
  },
  {
   "cell_type": "code",
   "execution_count": 8,
   "id": "f23bc42f-b801-4eb5-a6cc-36353aaf8662",
   "metadata": {},
   "outputs": [],
   "source": [
    "# 0    1    2     3     4     Positive Slicing\n",
    "#-5   -4   -3    -2    -1     Negative Slicing "
   ]
  },
  {
   "cell_type": "code",
   "execution_count": 10,
   "id": "8afad286-8106-41b6-99cc-ab547648a646",
   "metadata": {},
   "outputs": [
    {
     "data": {
      "text/plain": [
       "'d'"
      ]
     },
     "execution_count": 10,
     "metadata": {},
     "output_type": "execute_result"
    }
   ],
   "source": [
    "w[-2]"
   ]
  },
  {
   "cell_type": "code",
   "execution_count": 11,
   "id": "dd2089b8-c817-461f-b4ca-eb3ecc8c8549",
   "metadata": {},
   "outputs": [],
   "source": [
    "#overwrite values"
   ]
  },
  {
   "cell_type": "code",
   "execution_count": 12,
   "id": "8988414c-06a8-4abb-aa64-51017e756a78",
   "metadata": {},
   "outputs": [],
   "source": [
    "w[2] = 34"
   ]
  },
  {
   "cell_type": "code",
   "execution_count": 13,
   "id": "7ae44249-387c-44b3-b9fb-a7a98a4760ee",
   "metadata": {},
   "outputs": [
    {
     "data": {
      "text/plain": [
       "['a', 'b', 34, 'd', 'e']"
      ]
     },
     "execution_count": 13,
     "metadata": {},
     "output_type": "execute_result"
    }
   ],
   "source": [
    "w"
   ]
  },
  {
   "cell_type": "code",
   "execution_count": 14,
   "id": "558e319d-2892-436a-b25d-5b5077beab8f",
   "metadata": {},
   "outputs": [
    {
     "data": {
      "text/plain": [
       "34"
      ]
     },
     "execution_count": 14,
     "metadata": {},
     "output_type": "execute_result"
    }
   ],
   "source": [
    "w[-3]"
   ]
  },
  {
   "cell_type": "code",
   "execution_count": null,
   "id": "31996c32-1ef1-4b5c-8d6b-7bb2fe5b45a4",
   "metadata": {},
   "outputs": [],
   "source": []
  }
 ],
 "metadata": {
  "kernelspec": {
   "display_name": "Python 3 (ipykernel)",
   "language": "python",
   "name": "python3"
  },
  "language_info": {
   "codemirror_mode": {
    "name": "ipython",
    "version": 3
   },
   "file_extension": ".py",
   "mimetype": "text/x-python",
   "name": "python",
   "nbconvert_exporter": "python",
   "pygments_lexer": "ipython3",
   "version": "3.11.7"
  }
 },
 "nbformat": 4,
 "nbformat_minor": 5
}

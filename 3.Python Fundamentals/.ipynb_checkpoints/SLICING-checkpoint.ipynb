{
 "cells": [
  {
   "cell_type": "code",
   "execution_count": 3,
   "id": "bc1d9b15-0ab4-4c0e-82fa-73fb0c3571ba",
   "metadata": {},
   "outputs": [],
   "source": [
    "# SLICING\n",
    "#  0   1   2   3   4   5   6   7   8   9\n",
    "# 'A' 'B' 'C' 'D' 'E' 'F' 'G' 'H' 'I' 'J'\n",
    "# -10 -9  -8  -7  -6  -5  -4  -3  -2  -1\n",
    "\n"
   ]
  },
  {
   "cell_type": "code",
   "execution_count": 7,
   "id": "f71f8a18-d62b-4071-af2d-999990ac4a82",
   "metadata": {},
   "outputs": [],
   "source": [
    "#-8:7\n",
    "list = ['A', 'B', 'C', 'D', 'E', 'F', 'G', 'H', 'I', 'J']"
   ]
  },
  {
   "cell_type": "code",
   "execution_count": 8,
   "id": "1e0a9474-a5d0-4470-acfb-487b32ab3130",
   "metadata": {},
   "outputs": [
    {
     "data": {
      "text/plain": [
       "['A', 'B', 'C', 'D', 'E', 'F', 'G', 'H', 'I', 'J']"
      ]
     },
     "execution_count": 8,
     "metadata": {},
     "output_type": "execute_result"
    }
   ],
   "source": [
    "list"
   ]
  },
  {
   "cell_type": "code",
   "execution_count": 9,
   "id": "1d0afa6c-3c55-48cb-89d9-3e2d5bdc87a3",
   "metadata": {},
   "outputs": [
    {
     "data": {
      "text/plain": [
       "['C', 'D', 'E', 'F', 'G']"
      ]
     },
     "execution_count": 9,
     "metadata": {},
     "output_type": "execute_result"
    }
   ],
   "source": [
    "list[-8:7]"
   ]
  },
  {
   "cell_type": "code",
   "execution_count": 10,
   "id": "518d8a7e-2620-4d95-a7f1-d14529ecb105",
   "metadata": {},
   "outputs": [
    {
     "data": {
      "text/plain": [
       "['C', 'D', 'E', 'F', 'G']"
      ]
     },
     "execution_count": 10,
     "metadata": {},
     "output_type": "execute_result"
    }
   ],
   "source": [
    "list[-8:-3]"
   ]
  },
  {
   "cell_type": "code",
   "execution_count": 12,
   "id": "66dc6641-3fd6-4785-bbb3-75bdcab656d9",
   "metadata": {},
   "outputs": [
    {
     "data": {
      "text/plain": [
       "['C', 'E', 'G']"
      ]
     },
     "execution_count": 12,
     "metadata": {},
     "output_type": "execute_result"
    }
   ],
   "source": [
    "list[2:8:2]"
   ]
  },
  {
   "cell_type": "code",
   "execution_count": 13,
   "id": "a4f5f203-ba2a-4dc2-beda-9e2e5a99c304",
   "metadata": {},
   "outputs": [
    {
     "data": {
      "text/plain": [
       "['A', 'B', 'C', 'D', 'E', 'F', 'G', 'H', 'I', 'J']"
      ]
     },
     "execution_count": 13,
     "metadata": {},
     "output_type": "execute_result"
    }
   ],
   "source": [
    "list[:]"
   ]
  },
  {
   "cell_type": "code",
   "execution_count": 14,
   "id": "0b70d0de-d07a-4f0d-ab3a-16c9791af9cb",
   "metadata": {},
   "outputs": [
    {
     "data": {
      "text/plain": [
       "['A', 'B', 'C', 'D', 'E', 'F']"
      ]
     },
     "execution_count": 14,
     "metadata": {},
     "output_type": "execute_result"
    }
   ],
   "source": [
    "list[:6]"
   ]
  },
  {
   "cell_type": "code",
   "execution_count": 15,
   "id": "1ade6f5d-b948-4855-a54a-f3d9cefc29a5",
   "metadata": {},
   "outputs": [
    {
     "data": {
      "text/plain": [
       "['A', 'C', 'E', 'G', 'I']"
      ]
     },
     "execution_count": 15,
     "metadata": {},
     "output_type": "execute_result"
    }
   ],
   "source": [
    "list[::2]"
   ]
  },
  {
   "cell_type": "code",
   "execution_count": 16,
   "id": "cc42fdf1-5615-4512-ab43-03e159c93c16",
   "metadata": {},
   "outputs": [
    {
     "data": {
      "text/plain": [
       "['A', 'D', 'G', 'J']"
      ]
     },
     "execution_count": 16,
     "metadata": {},
     "output_type": "execute_result"
    }
   ],
   "source": [
    "list[::3]"
   ]
  },
  {
   "cell_type": "code",
   "execution_count": 22,
   "id": "ff615515-5589-4f09-b44f-060afe0ce0ba",
   "metadata": {},
   "outputs": [
    {
     "data": {
      "text/plain": [
       "['J', 'I', 'H', 'G', 'F', 'E', 'D', 'C', 'B', 'A']"
      ]
     },
     "execution_count": 22,
     "metadata": {},
     "output_type": "execute_result"
    }
   ],
   "source": [
    "list[::-1]\n",
    "#We get eerything in reverse.."
   ]
  },
  {
   "cell_type": "code",
   "execution_count": 23,
   "id": "45cd9256-b68c-4e42-966a-a754a2f1b283",
   "metadata": {},
   "outputs": [
    {
     "data": {
      "text/plain": [
       "['C', 'D', 'E', 'F', 'G']"
      ]
     },
     "execution_count": 23,
     "metadata": {},
     "output_type": "execute_result"
    }
   ],
   "source": [
    "list[2:7:1]"
   ]
  },
  {
   "cell_type": "code",
   "execution_count": 21,
   "id": "599af4a5-7439-4b8e-8fcc-410e528144a7",
   "metadata": {},
   "outputs": [
    {
     "data": {
      "text/plain": [
       "[]"
      ]
     },
     "execution_count": 21,
     "metadata": {},
     "output_type": "execute_result"
    }
   ],
   "source": [
    "list[2:7:-1]\n",
    "#Here ['A' 'B' 'C' 'D' 'E' 'F' 'G' 'H' 'I' 'J']\n",
    "#2:7  means started from C to G: but in reverse stepping, order should be 7:2 but not 2:7"
   ]
  },
  {
   "cell_type": "code",
   "execution_count": 24,
   "id": "c90869f0-98d6-4478-b850-c32bf11dc6b0",
   "metadata": {},
   "outputs": [
    {
     "data": {
      "text/plain": [
       "['H', 'G', 'F', 'E', 'D']"
      ]
     },
     "execution_count": 24,
     "metadata": {},
     "output_type": "execute_result"
    }
   ],
   "source": [
    "list[7:2:-1]"
   ]
  },
  {
   "cell_type": "code",
   "execution_count": null,
   "id": "6b3e4fba-d7c9-4d82-a3e9-b8a52ea61a06",
   "metadata": {},
   "outputs": [],
   "source": []
  }
 ],
 "metadata": {
  "kernelspec": {
   "display_name": "Python 3 (ipykernel)",
   "language": "python",
   "name": "python3"
  },
  "language_info": {
   "codemirror_mode": {
    "name": "ipython",
    "version": 3
   },
   "file_extension": ".py",
   "mimetype": "text/x-python",
   "name": "python",
   "nbconvert_exporter": "python",
   "pygments_lexer": "ipython3",
   "version": "3.11.7"
  }
 },
 "nbformat": 4,
 "nbformat_minor": 5
}

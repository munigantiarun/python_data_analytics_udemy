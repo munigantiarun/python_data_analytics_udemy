{
 "cells": [
  {
   "cell_type": "code",
   "execution_count": 3,
   "id": "b0f65a93-565f-4252-b2bc-70d9a6bf5958",
   "metadata": {},
   "outputs": [],
   "source": [
    "#A MODULE is simply a file containing Python definitions, functions and statements. \n",
    "#Putting code into modules is useful because of the ability to import the module functionality into your script or IPython session\n",
    "\n",
    "#A PACKAGE is a way of collecting related MODULES together within a single tree-like hierarchy. \n",
    "# Very complex packages like NumPy or SciPy HAVE HUNDREDS of individual MODULES \n",
    "#  so putting them into a directory-like structure keeps things organized and avoids name collisions. "
   ]
  },
  {
   "cell_type": "code",
   "execution_count": 4,
   "id": "7c398df2-34e4-4099-9899-cb4624efc8cd",
   "metadata": {},
   "outputs": [],
   "source": [
    "#STEP 1: FIND THE PACKAGE\n",
    "#STEP 2: INSTALL THE PACKAGE\n",
    "#     how to install in MAC: \n",
    "\n",
    "#TERMINAL \n",
    "#pip install packageName (PyTime here)\n",
    "\n",
    "#STEP3: IMPORT\n"
   ]
  },
  {
   "cell_type": "code",
   "execution_count": 10,
   "id": "91304f9b-d12f-4e13-b751-55ee5b24dab9",
   "metadata": {},
   "outputs": [],
   "source": [
    "import scrapy"
   ]
  },
  {
   "cell_type": "code",
   "execution_count": 16,
   "id": "3c5afab7-d30c-47de-8cec-49515c6893a7",
   "metadata": {},
   "outputs": [],
   "source": [
    "from scrapy.crawler import CrawlerProcess"
   ]
  },
  {
   "cell_type": "raw",
   "id": "bbc3e8e7-55fa-4c02-8e8b-590a61545607",
   "metadata": {},
   "source": []
  }
 ],
 "metadata": {
  "kernelspec": {
   "display_name": "Python 3 (ipykernel)",
   "language": "python",
   "name": "python3"
  },
  "language_info": {
   "codemirror_mode": {
    "name": "ipython",
    "version": 3
   },
   "file_extension": ".py",
   "mimetype": "text/x-python",
   "name": "python",
   "nbconvert_exporter": "python",
   "pygments_lexer": "ipython3",
   "version": "3.11.7"
  }
 },
 "nbformat": 4,
 "nbformat_minor": 5
}

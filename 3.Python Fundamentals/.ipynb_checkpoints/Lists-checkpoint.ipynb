{
 "cells": [
  {
   "cell_type": "code",
   "execution_count": null,
   "id": "37ae70ea-9108-488a-a69c-b145338cd4f9",
   "metadata": {},
   "outputs": [],
   "source": [
    "#In Python LISTS - we can have mixed data types.. where arrays can have only one Datatypes.\n",
    "\n",
    "#   0     1     2    3     4     5      6 \n",
    "#  \"A\"  \"Hey\"   7  True  27.5   \"A\"   -100 \n"
   ]
  },
  {
   "cell_type": "code",
   "execution_count": 14,
   "id": "0dc013da-e29b-4794-83b0-6851d0b510e9",
   "metadata": {},
   "outputs": [],
   "source": [
    "MyList = [ 3, 39, 32, 722]"
   ]
  },
  {
   "cell_type": "code",
   "execution_count": 15,
   "id": "7eed1e2a-7b28-40cb-9ed2-0824ef4bbc5c",
   "metadata": {},
   "outputs": [
    {
     "data": {
      "text/plain": [
       "[3, 39, 32, 722]"
      ]
     },
     "execution_count": 15,
     "metadata": {},
     "output_type": "execute_result"
    }
   ],
   "source": [
    "MyList"
   ]
  },
  {
   "cell_type": "code",
   "execution_count": 17,
   "id": "7a7d8dab-b5b0-47b0-8a21-f4f0b22c969a",
   "metadata": {},
   "outputs": [
    {
     "data": {
      "text/plain": [
       "list"
      ]
     },
     "execution_count": 17,
     "metadata": {},
     "output_type": "execute_result"
    }
   ],
   "source": [
    "type(MyList)"
   ]
  },
  {
   "cell_type": "markdown",
   "id": "8393bb89-9dfd-413b-9042-08218e2782a1",
   "metadata": {},
   "source": [
    "l2 = [\"o\", 12, True, 55.3]"
   ]
  },
  {
   "cell_type": "code",
   "execution_count": 19,
   "id": "9bd972f5-cb7d-4a55-9247-dfd9a73f111b",
   "metadata": {},
   "outputs": [
    {
     "ename": "NameError",
     "evalue": "name 'l2' is not defined",
     "output_type": "error",
     "traceback": [
      "\u001b[0;31m---------------------------------------------------------------------------\u001b[0m",
      "\u001b[0;31mNameError\u001b[0m                                 Traceback (most recent call last)",
      "Cell \u001b[0;32mIn[19], line 1\u001b[0m\n\u001b[0;32m----> 1\u001b[0m l2\n",
      "\u001b[0;31mNameError\u001b[0m: name 'l2' is not defined"
     ]
    }
   ],
   "source": [
    "l2"
   ]
  },
  {
   "cell_type": "code",
   "execution_count": null,
   "id": "3293f6f7-6acb-46ce-82f3-c819b36e1da4",
   "metadata": {},
   "outputs": [],
   "source": []
  }
 ],
 "metadata": {
  "kernelspec": {
   "display_name": "Python 3 (ipykernel)",
   "language": "python",
   "name": "python3"
  },
  "language_info": {
   "codemirror_mode": {
    "name": "ipython",
    "version": 3
   },
   "file_extension": ".py",
   "mimetype": "text/x-python",
   "name": "python",
   "nbconvert_exporter": "python",
   "pygments_lexer": "ipython3",
   "version": "3.11.7"
  }
 },
 "nbformat": 4,
 "nbformat_minor": 5
}

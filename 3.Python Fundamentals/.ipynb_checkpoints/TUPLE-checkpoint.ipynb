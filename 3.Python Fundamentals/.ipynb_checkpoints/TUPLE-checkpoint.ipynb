{
 "cells": [
  {
   "cell_type": "code",
   "execution_count": 2,
   "id": "250d3fd3-500b-454e-a9b2-a8344f5429ea",
   "metadata": {},
   "outputs": [],
   "source": [
    "#TUPLE: IMMUTABLE LIST\n",
    "\n",
    "\n",
    "#Tuple has different meanings in diff subjects\n",
    "#DBMS : It is a single row or a record in a database table\n",
    "\n",
    "#Python : sequence of objects used to store data that doesn't change frequently. By definition, they are immutable- they can't be changed. \n",
    "#       :Operates faster than lists\n",
    "\n",
    "#In Mathematical definition, ordered sequence of elements enclosed in a parenthesis and separated by commas. \n"
   ]
  },
  {
   "cell_type": "code",
   "execution_count": 1,
   "id": "88fe1754-75a0-445e-89b7-862242ce66c1",
   "metadata": {},
   "outputs": [],
   "source": [
    "t1 = (345,232,343)"
   ]
  },
  {
   "cell_type": "code",
   "execution_count": 2,
   "id": "d633c515-e6b1-45fc-b9fc-161bc1069feb",
   "metadata": {},
   "outputs": [
    {
     "data": {
      "text/plain": [
       "(345, 232, 343)"
      ]
     },
     "execution_count": 2,
     "metadata": {},
     "output_type": "execute_result"
    }
   ],
   "source": [
    "t1"
   ]
  },
  {
   "cell_type": "code",
   "execution_count": 3,
   "id": "00cf16f0-4126-4f56-a229-bb369c337187",
   "metadata": {},
   "outputs": [
    {
     "data": {
      "text/plain": [
       "232"
      ]
     },
     "execution_count": 3,
     "metadata": {},
     "output_type": "execute_result"
    }
   ],
   "source": [
    "t1[1]"
   ]
  },
  {
   "cell_type": "code",
   "execution_count": 5,
   "id": "78cc5567-10b9-4de1-a292-871c08d53559",
   "metadata": {},
   "outputs": [],
   "source": [
    "#t1[1] = 43\n",
    "#Throws an error, AS cannot be modified."
   ]
  },
  {
   "cell_type": "code",
   "execution_count": null,
   "id": "f3b4fce2-4036-4def-ba32-d7d77b161453",
   "metadata": {},
   "outputs": [],
   "source": []
  }
 ],
 "metadata": {
  "kernelspec": {
   "display_name": "Python 3 (ipykernel)",
   "language": "python",
   "name": "python3"
  },
  "language_info": {
   "codemirror_mode": {
    "name": "ipython",
    "version": 3
   },
   "file_extension": ".py",
   "mimetype": "text/x-python",
   "name": "python",
   "nbconvert_exporter": "python",
   "pygments_lexer": "ipython3",
   "version": "3.11.7"
  }
 },
 "nbformat": 4,
 "nbformat_minor": 5
}

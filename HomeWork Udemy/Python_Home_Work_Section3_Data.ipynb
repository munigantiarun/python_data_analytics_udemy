{
 "cells": [
  {
   "cell_type": "markdown",
   "metadata": {},
   "source": [
    "### Profit Revenue-Expenses "
   ]
  },
  {
   "cell_type": "code",
   "execution_count": 1,
   "metadata": {},
   "outputs": [],
   "source": [
    "#Data \n",
    "revenue = [14574.49, 7606.46, 8611.41, 9175.41, 8058.65, 8105.44, 11496.28, 9766.09, 10305.32, 14379.96, 10713.97, 15433.50]\n",
    "expenses = [12051.82, 5695.07, 12319.20, 12089.72, 8658.57, 840.20, 3285.73, 5821.12, 6976.93, 16618.61, 10054.37, 3803.96]"
   ]
  },
  {
   "cell_type": "code",
   "execution_count": 2,
   "metadata": {},
   "outputs": [
    {
     "data": {
      "text/plain": [
       "[2522.67,\n",
       " 1911.3900000000003,\n",
       " -3707.790000000001,\n",
       " -2914.3099999999995,\n",
       " -599.9200000000001,\n",
       " 7265.24,\n",
       " 8210.550000000001,\n",
       " 3944.9700000000003,\n",
       " 3328.3899999999994,\n",
       " -2238.6500000000015,\n",
       " 659.5999999999985,\n",
       " 11629.54]"
      ]
     },
     "execution_count": 2,
     "metadata": {},
     "output_type": "execute_result"
    }
   ],
   "source": [
    "#Calculation of Profit (revenue-expenses)\n",
    "#profit = [] This can also create an empty list, but list([]) makes to convert any type of data into list type. \n",
    "profit=list([])\n",
    "for amount in range(0, len(revenue)):\n",
    "    profit.append(revenue[amount] - expenses[amount])\n",
    "\n",
    "profit"
   ]
  },
  {
   "cell_type": "code",
   "execution_count": 6,
   "metadata": {},
   "outputs": [
    {
     "data": {
      "text/plain": [
       "[756.8,\n",
       " 573.42,\n",
       " -1112.34,\n",
       " -874.29,\n",
       " -179.98,\n",
       " 2179.57,\n",
       " 2463.17,\n",
       " 1183.49,\n",
       " 998.52,\n",
       " -671.6,\n",
       " 197.88,\n",
       " 3488.86]"
      ]
     },
     "execution_count": 6,
     "metadata": {},
     "output_type": "execute_result"
    }
   ],
   "source": [
    "#calculating Tax: (profit x 30%)\n",
    "tax = [round(taxable_amount*0.3, 2) for taxable_amount in profit]\n",
    "tax"
   ]
  },
  {
   "cell_type": "code",
   "execution_count": 9,
   "metadata": {},
   "outputs": [
    {
     "data": {
      "text/plain": [
       "[1765.8700000000001,\n",
       " 1337.9700000000003,\n",
       " -2595.4500000000007,\n",
       " -2040.0199999999995,\n",
       " -419.94000000000005,\n",
       " 5085.67,\n",
       " 5747.380000000001,\n",
       " 2761.4800000000005,\n",
       " 2329.8699999999994,\n",
       " -1567.0500000000015,\n",
       " 461.71999999999855,\n",
       " 8140.68]"
      ]
     },
     "execution_count": 9,
     "metadata": {},
     "output_type": "execute_result"
    }
   ],
   "source": [
    "#profit after tax:\n",
    "profit_after_tax = list([])\n",
    "\n",
    "for amount in range(0, len(profit)):\n",
    "    profit_after_tax.append(profit[amount] - tax[amount])\n",
    "profit_after_tax"
   ]
  },
  {
   "cell_type": "code",
   "execution_count": null,
   "metadata": {},
   "outputs": [],
   "source": []
  }
 ],
 "metadata": {
  "kernelspec": {
   "display_name": "Python 3 (ipykernel)",
   "language": "python",
   "name": "python3"
  },
  "language_info": {
   "codemirror_mode": {
    "name": "ipython",
    "version": 3
   },
   "file_extension": ".py",
   "mimetype": "text/x-python",
   "name": "python",
   "nbconvert_exporter": "python",
   "pygments_lexer": "ipython3",
   "version": "3.11.7"
  }
 },
 "nbformat": 4,
 "nbformat_minor": 4
}

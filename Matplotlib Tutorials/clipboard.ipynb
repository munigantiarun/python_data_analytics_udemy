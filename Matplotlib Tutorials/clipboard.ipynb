{
 "cells": [
  {
   "cell_type": "code",
   "execution_count": 7,
   "id": "2031026b-4224-4665-90ea-1f59ad2bd07f",
   "metadata": {},
   "outputs": [
    {
     "ename": "NameError",
     "evalue": "name 'labels' is not defined",
     "output_type": "error",
     "traceback": [
      "\u001b[0;31m---------------------------------------------------------------------------\u001b[0m",
      "\u001b[0;31mNameError\u001b[0m                                 Traceback (most recent call last)",
      "Cell \u001b[0;32mIn[7], line 8\u001b[0m\n\u001b[1;32m      5\u001b[0m gas \u001b[38;5;241m=\u001b[39m pd\u001b[38;5;241m.\u001b[39mread_csv(\u001b[38;5;124m'\u001b[39m\u001b[38;5;124mgas_prices.csv\u001b[39m\u001b[38;5;124m'\u001b[39m)\n\u001b[1;32m      6\u001b[0m country \u001b[38;5;241m=\u001b[39m gas\u001b[38;5;241m.\u001b[39mcolumns[\u001b[38;5;241m1\u001b[39m:]\n\u001b[0;32m----> 8\u001b[0m plt\u001b[38;5;241m.\u001b[39mplot(gas\u001b[38;5;241m.\u001b[39mYear, gas[country], labels\u001b[38;5;241m=\u001b[39mlabels)\n\u001b[1;32m      9\u001b[0m plt\u001b[38;5;241m.\u001b[39mshow()\n",
      "\u001b[0;31mNameError\u001b[0m: name 'labels' is not defined"
     ]
    }
   ],
   "source": [
    "import matplotlib.pyplot as plt\n",
    "import numpy as np\n",
    "import pandas as pd\n",
    "\n",
    "gas = pd.read_csv('gas_prices.csv')\n",
    "country = gas.columns[1:]\n",
    "\n",
    "plt.plot(gas.Year, gas[country], labels=labels)\n",
    "plt.show()"
   ]
  },
  {
   "cell_type": "code",
   "execution_count": null,
   "id": "3cd4f97c-0c2c-4c5d-8f8f-e1a836f0fbcd",
   "metadata": {},
   "outputs": [],
   "source": [
    "import pandas as pd\n",
    "import matplotlib.pyplot as plt\n",
    "\n",
    "# Load the CSV\n",
    "gas = pd.read_csv('gas_prices.csv')\n",
    "\n",
    "# Extract the list of countries (all columns except 'Year')\n",
    "Countries = gas.columns[1:]\n",
    "\n",
    "# Plot all countries' data\n",
    "gas.plot(x='Year', y=Countries, figsize=(10, 6))  # 'Year' is the x-axis, 'Countries' are y-axis\n",
    "\n",
    "# # Add title and labels\n",
    "# plt.title('Gas Prices Over Time')\n",
    "# plt.xlabel('Year')\n",
    "# plt.ylabel('Gas Price (USD)')\n",
    "# plt.legend(loc='upper left')\n",
    "# plt.grid(True)\n",
    "\n",
    "# Show the plot\n",
    "plt.show()\n"
   ]
  },
  {
   "cell_type": "code",
   "execution_count": null,
   "id": "3989b016-0a64-4beb-a66d-e1d49ad73624",
   "metadata": {},
   "outputs": [],
   "source": []
  }
 ],
 "metadata": {
  "kernelspec": {
   "display_name": "Python 3 (ipykernel)",
   "language": "python",
   "name": "python3"
  },
  "language_info": {
   "codemirror_mode": {
    "name": "ipython",
    "version": 3
   },
   "file_extension": ".py",
   "mimetype": "text/x-python",
   "name": "python",
   "nbconvert_exporter": "python",
   "pygments_lexer": "ipython3",
   "version": "3.11.7"
  }
 },
 "nbformat": 4,
 "nbformat_minor": 5
}

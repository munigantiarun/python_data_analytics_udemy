{
 "cells": [
  {
   "cell_type": "markdown",
   "id": "000bab85-91a9-4d00-96c2-298dacc4ad2b",
   "metadata": {},
   "source": [
    "### Lists"
   ]
  },
  {
   "cell_type": "markdown",
   "id": "4af7cd75-2625-46ce-beb1-ea92ae6981be",
   "metadata": {},
   "source": [
    "### 1. Without List Comprehenison"
   ]
  },
  {
   "cell_type": "code",
   "execution_count": 1,
   "id": "a9324dd0-cac2-4ed4-b8b9-4802f2764d0f",
   "metadata": {},
   "outputs": [
    {
     "name": "stdout",
     "output_type": "stream",
     "text": [
      "[1, 4, 9, 16, 25]\n"
     ]
    }
   ],
   "source": [
    "squares = []\n",
    "for i in range(1,6):\n",
    "    squares.append(i*i)\n",
    "\n",
    "print(squares)"
   ]
  },
  {
   "cell_type": "markdown",
   "id": "30665f2c-175d-48fe-a176-dd1825fa5385",
   "metadata": {},
   "source": [
    "### 2. With List Comprehension"
   ]
  },
  {
   "cell_type": "code",
   "execution_count": 2,
   "id": "cbc01851-4e80-423b-afa5-e62430af2db7",
   "metadata": {},
   "outputs": [
    {
     "name": "stdout",
     "output_type": "stream",
     "text": [
      "[16, 25, 36, 49, 64, 81]\n"
     ]
    }
   ],
   "source": [
    "squares = [i*i for i in range(4,10)]\n",
    "print(squares)"
   ]
  },
  {
   "cell_type": "markdown",
   "id": "3f31c82d-2e1b-4738-b4c2-5ef440bfb16f",
   "metadata": {},
   "source": [
    "### Dictionaries"
   ]
  },
  {
   "cell_type": "markdown",
   "id": "df715035-0b4b-44b7-b7a6-72a95e4e79f8",
   "metadata": {},
   "source": [
    "###  1. Without Dictionary Comprehension and Predefined list\n"
   ]
  },
  {
   "cell_type": "code",
   "execution_count": 3,
   "id": "092a8aef-38e7-4080-848b-fce2aa3d9aa7",
   "metadata": {},
   "outputs": [
    {
     "name": "stdout",
     "output_type": "stream",
     "text": [
      "{1: 1, 2: 4, 3: 9, 4: 16, 5: 25}\n"
     ]
    }
   ],
   "source": [
    "\n",
    "numbers = [1,2,3,4,5]\n",
    "\n",
    "#Initialise empty dictionary\n",
    "squares = {}\n",
    "\n",
    "#Loop through each number and compare its square\n",
    "for element in numbers:\n",
    "    squares[element] = element**2\n",
    "\n",
    "print(squares)\n"
   ]
  },
  {
   "cell_type": "markdown",
   "id": "15833887-4386-4651-8bbd-19b476715902",
   "metadata": {},
   "source": [
    "###  2. With Dictionary Comprehension and Predefined list\n"
   ]
  },
  {
   "cell_type": "code",
   "execution_count": 4,
   "id": "dab780c7-fcff-4c0d-974a-04fd27f2137b",
   "metadata": {},
   "outputs": [
    {
     "name": "stdout",
     "output_type": "stream",
     "text": [
      "{1: 1, 2: 4, 3: 9, 4: 16, 5: 25}\n"
     ]
    }
   ],
   "source": [
    "numbers = [1,2,3,4,5]\n",
    "\n",
    "#Use dictionary comprehension to create the dictionary in one line\n",
    "squares = {n : n**2 for n in numbers}\n",
    "print(squares)\n"
   ]
  },
  {
   "cell_type": "markdown",
   "id": "61e4a802-028f-469a-8783-ad27f9e7d065",
   "metadata": {},
   "source": [
    "### 3. Without Dictionary Comprehension and Without a Predefined list"
   ]
  },
  {
   "cell_type": "code",
   "execution_count": 5,
   "id": "e93bed6d-7187-4b62-a3b3-e7ae2521b951",
   "metadata": {},
   "outputs": [
    {
     "name": "stdout",
     "output_type": "stream",
     "text": [
      "{1: 1, 2: 4, 3: 9, 4: 16, 5: 25}\n"
     ]
    }
   ],
   "source": [
    "squares = {}\n",
    "for n in range(1,6):\n",
    "    squares[n] = n**2\n",
    "\n",
    "print(squares)"
   ]
  },
  {
   "cell_type": "markdown",
   "id": "b78e6e7e-9ce4-4575-a6c6-3730187242f0",
   "metadata": {},
   "source": [
    "### 4. Dictionary Comprehension and Without a Predefined list"
   ]
  },
  {
   "cell_type": "code",
   "execution_count": 6,
   "id": "b7a1db9a-76d8-4209-9ee7-d7e7d7a21d52",
   "metadata": {},
   "outputs": [
    {
     "name": "stdout",
     "output_type": "stream",
     "text": [
      "{1: 1, 2: 4, 3: 9, 4: 16, 5: 25}\n"
     ]
    }
   ],
   "source": [
    "#creating a dictionary directly using range()\n",
    "\n",
    "squares = {n: n**2 for n in range(1,6)}\n",
    "print(squares)"
   ]
  },
  {
   "cell_type": "markdown",
   "id": "ac2cc2ac-33a6-4d94-a33e-68121d71b5e0",
   "metadata": {},
   "source": [
    "### 5. Dictionary Comprehension from existing Dictionaries"
   ]
  },
  {
   "cell_type": "code",
   "execution_count": 7,
   "id": "f3eb7eb6-9513-4c67-aa28-aec156109914",
   "metadata": {},
   "outputs": [
    {
     "name": "stdout",
     "output_type": "stream",
     "text": [
      "{'a': 2, 'b': 4, 'c': 6}\n",
      "\n",
      "If .items() not used\n",
      "{'a': 'aa', 'b': 'bb', 'c': 'cc'}\n"
     ]
    }
   ],
   "source": [
    "#Creating a new dictionary by transforming keys/values of an existing dictionary.\n",
    "original_dict = {'a':1, 'b':2, 'c':3}\n",
    "\n",
    "#Double the values in the dictionary\n",
    "new_dict = {key:value*2 for key, value in original_dict.items()}       #.items() is used to iterate through key and value pairs. \n",
    "print(new_dict)\n",
    "\n",
    "\n",
    "print(\"\\nIf .items() not used\" )\n",
    "\n",
    "\n",
    "# Try to access values without items()\n",
    "new_dict = {key: key*2 for key in original_dict}\n",
    "print(new_dict)\n"
   ]
  },
  {
   "cell_type": "markdown",
   "id": "c450216c-9cff-4100-ad72-247171e109a5",
   "metadata": {},
   "source": [
    "### Enumerate in OOPS"
   ]
  },
  {
   "cell_type": "code",
   "execution_count": 21,
   "id": "304da13d-059c-4c95-82ce-47361af2a9e1",
   "metadata": {},
   "outputs": [
    {
     "name": "stdout",
     "output_type": "stream",
     "text": [
      "{0: 'Eat', 1: 'Sleep', 2: 'Repeat'}\n"
     ]
    }
   ],
   "source": [
    "#Printing the list elements in dictionary format\n",
    "list1 = ['Eat', 'Sleep', 'Repeat']\n",
    "dict = {key: value for key,value in enumerate(list1)}\n",
    "print(dict)"
   ]
  },
  {
   "cell_type": "code",
   "execution_count": 22,
   "id": "9fef1cb2-bacd-4218-a134-0bf082145b26",
   "metadata": {},
   "outputs": [
    {
     "name": "stdout",
     "output_type": "stream",
     "text": [
      "{'Arun': 'Python', 'Avi': 'Military', 'Kamariya': 'Walmart'}\n"
     ]
    }
   ],
   "source": [
    "#Dictionary Comprehension with two lists and consdiering one of them as key and other as value\n",
    "names = ['Arun', 'Avi', 'Kamariya']\n",
    "prof = ['Python', 'Military', 'Walmart']\n",
    "\n",
    "dict2 = {names: prof for names, prof in zip(names, prof)}\n",
    "print(dict2)\n",
    "  "
   ]
  },
  {
   "cell_type": "code",
   "execution_count": null,
   "id": "2e531496-9bdc-4bd6-82c0-4328aaf1c8dc",
   "metadata": {},
   "outputs": [],
   "source": []
  },
  {
   "cell_type": "code",
   "execution_count": null,
   "id": "17debb45-066f-42d5-8e6e-a3e1e9ccc5f8",
   "metadata": {},
   "outputs": [],
   "source": []
  }
 ],
 "metadata": {
  "kernelspec": {
   "display_name": "Python 3 (ipykernel)",
   "language": "python",
   "name": "python3"
  },
  "language_info": {
   "codemirror_mode": {
    "name": "ipython",
    "version": 3
   },
   "file_extension": ".py",
   "mimetype": "text/x-python",
   "name": "python",
   "nbconvert_exporter": "python",
   "pygments_lexer": "ipython3",
   "version": "3.11.7"
  }
 },
 "nbformat": 4,
 "nbformat_minor": 5
}

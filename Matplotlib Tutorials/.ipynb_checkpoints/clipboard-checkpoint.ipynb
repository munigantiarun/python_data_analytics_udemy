{
 "cells": [
  {
   "cell_type": "markdown",
   "id": "0302c25c-c020-49a6-92f3-3c58906862b2",
   "metadata": {},
   "source": [
    "### Enumerate Object in OOPS"
   ]
  },
  {
   "cell_type": "code",
   "execution_count": 2,
   "id": "0f80b789-d873-47f8-b8b1-2ec12bae908e",
   "metadata": {},
   "outputs": [
    {
     "name": "stdout",
     "output_type": "stream",
     "text": [
      "(0, 'Eat')\n",
      "(1, 'Sleep')\n",
      "(2, 'Repeat')\n"
     ]
    }
   ],
   "source": [
    "#Printing the list elements in dictionary format\n",
    "list = ['Eat', 'Sleep', 'Repeat']\n",
    "for elements in enumerate(list):\n",
    "    print(elements)"
   ]
  },
  {
   "cell_type": "code",
   "execution_count": 3,
   "id": "0ee1823a-32f7-4aa3-a940-e0af30c9d690",
   "metadata": {},
   "outputs": [
    {
     "name": "stdout",
     "output_type": "stream",
     "text": [
      "{'Arun': 'Python', 'Avi': 'Military', 'Kamariya': 'Walmart'}\n"
     ]
    }
   ],
   "source": [
    "names = ['Arun', 'Avi', 'Kamariya']\n",
    "prof = ['Python', 'Military', 'Walmart']\n",
    "\n",
    "my_dictionary = {}\n",
    "for (key, value) in zip(names,prof):\n",
    "    my_dictionary[key] = value\n",
    "\n",
    "print(my_dictionary)\n",
    "\n"
   ]
  },
  {
   "cell_type": "code",
   "execution_count": 16,
   "id": "63aaf018-fbff-49c3-ab6e-03dd4c868057",
   "metadata": {},
   "outputs": [
    {
     "name": "stdout",
     "output_type": "stream",
     "text": [
      "[1, 4, 9, 16, 25]\n",
      "[1, 4, 9, 16, 25]\n"
     ]
    }
   ],
   "source": [
    "list = []\n",
    "for i in range(1,6):\n",
    "    list.append(i*i)\n",
    "\n",
    "print(list)\n",
    "\n",
    "sq = [i*i for i in range(1,6)]\n",
    "print(sq)"
   ]
  },
  {
   "cell_type": "code",
   "execution_count": 19,
   "id": "d5fbe773-0e81-43aa-97b0-6f6260c58cde",
   "metadata": {},
   "outputs": [
    {
     "name": "stdout",
     "output_type": "stream",
     "text": [
      "{1: 1, 2: 4, 3: 9, 4: 16, 5: 25}\n"
     ]
    }
   ],
   "source": [
    "\n",
    "numbers = [1,2,3,4,5]\n",
    "squares = {}\n",
    "\n",
    "for element in numbers:\n",
    "    squares[element] = element**2\n",
    "\n",
    "print(squares)\n"
   ]
  },
  {
   "cell_type": "code",
   "execution_count": null,
   "id": "829a3695-fe06-45a5-9ee2-ebec2981a828",
   "metadata": {},
   "outputs": [],
   "source": []
  }
 ],
 "metadata": {
  "kernelspec": {
   "display_name": "Python 3 (ipykernel)",
   "language": "python",
   "name": "python3"
  },
  "language_info": {
   "codemirror_mode": {
    "name": "ipython",
    "version": 3
   },
   "file_extension": ".py",
   "mimetype": "text/x-python",
   "name": "python",
   "nbconvert_exporter": "python",
   "pygments_lexer": "ipython3",
   "version": "3.11.7"
  }
 },
 "nbformat": 4,
 "nbformat_minor": 5
}

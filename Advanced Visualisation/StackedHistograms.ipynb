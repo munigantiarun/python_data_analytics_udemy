{
 "cells": [
  {
   "cell_type": "markdown",
   "id": "9eba4963-ab9d-488f-8116-29b9891d45ba",
   "metadata": {},
   "source": [
    "### Stacked Histograms"
   ]
  },
  {
   "cell_type": "code",
   "execution_count": 1,
   "id": "74a5b96a-d253-486c-9fbe-bdae52038f30",
   "metadata": {},
   "outputs": [
    {
     "data": {
      "text/plain": [
       "'/Users/arunmuniganti/Desktop/Python Programming Course/Advanced Visualisation'"
      ]
     },
     "execution_count": 1,
     "metadata": {},
     "output_type": "execute_result"
    }
   ],
   "source": [
    "import os\n",
    "os.getcwd()"
   ]
  },
  {
   "cell_type": "code",
   "execution_count": 2,
   "id": "7537f876-81eb-49b3-b912-9cdeae9918aa",
   "metadata": {},
   "outputs": [],
   "source": [
    "import pandas as pd\n",
    "import matplotlib.pyplot as plt\n",
    "import seaborn as sns\n",
    "%matplotlib inline\n",
    "\n",
    "import warnings\n",
    "warnings.filterwarnings('ignore')"
   ]
  },
  {
   "cell_type": "code",
   "execution_count": 3,
   "id": "f35ec7ab-02f8-4f22-8a96-ea2e6615e9dc",
   "metadata": {},
   "outputs": [],
   "source": [
    "movies = pd.read_csv('/Users/arunmuniganti/Desktop/Python Programming Course/Advanced Visualisation/Movie-Ratings.csv')"
   ]
  },
  {
   "cell_type": "code",
   "execution_count": 4,
   "id": "06ecf407-7a53-4621-8b98-9f65b3359e2e",
   "metadata": {},
   "outputs": [
    {
     "data": {
      "text/html": [
       "<div>\n",
       "<style scoped>\n",
       "    .dataframe tbody tr th:only-of-type {\n",
       "        vertical-align: middle;\n",
       "    }\n",
       "\n",
       "    .dataframe tbody tr th {\n",
       "        vertical-align: top;\n",
       "    }\n",
       "\n",
       "    .dataframe thead th {\n",
       "        text-align: right;\n",
       "    }\n",
       "</style>\n",
       "<table border=\"1\" class=\"dataframe\">\n",
       "  <thead>\n",
       "    <tr style=\"text-align: right;\">\n",
       "      <th></th>\n",
       "      <th>Film</th>\n",
       "      <th>Genre</th>\n",
       "      <th>Rotten Tomatoes Ratings %</th>\n",
       "      <th>Audience Ratings %</th>\n",
       "      <th>Budget (million $)</th>\n",
       "      <th>Year of release</th>\n",
       "    </tr>\n",
       "  </thead>\n",
       "  <tbody>\n",
       "    <tr>\n",
       "      <th>0</th>\n",
       "      <td>(500) Days of Summer</td>\n",
       "      <td>Comedy</td>\n",
       "      <td>87</td>\n",
       "      <td>81</td>\n",
       "      <td>8</td>\n",
       "      <td>2009</td>\n",
       "    </tr>\n",
       "    <tr>\n",
       "      <th>1</th>\n",
       "      <td>10,000 B.C.</td>\n",
       "      <td>Adventure</td>\n",
       "      <td>9</td>\n",
       "      <td>44</td>\n",
       "      <td>105</td>\n",
       "      <td>2008</td>\n",
       "    </tr>\n",
       "    <tr>\n",
       "      <th>2</th>\n",
       "      <td>12 Rounds</td>\n",
       "      <td>Action</td>\n",
       "      <td>30</td>\n",
       "      <td>52</td>\n",
       "      <td>20</td>\n",
       "      <td>2009</td>\n",
       "    </tr>\n",
       "    <tr>\n",
       "      <th>3</th>\n",
       "      <td>127 Hours</td>\n",
       "      <td>Adventure</td>\n",
       "      <td>93</td>\n",
       "      <td>84</td>\n",
       "      <td>18</td>\n",
       "      <td>2010</td>\n",
       "    </tr>\n",
       "    <tr>\n",
       "      <th>4</th>\n",
       "      <td>17 Again</td>\n",
       "      <td>Comedy</td>\n",
       "      <td>55</td>\n",
       "      <td>70</td>\n",
       "      <td>20</td>\n",
       "      <td>2009</td>\n",
       "    </tr>\n",
       "    <tr>\n",
       "      <th>...</th>\n",
       "      <td>...</td>\n",
       "      <td>...</td>\n",
       "      <td>...</td>\n",
       "      <td>...</td>\n",
       "      <td>...</td>\n",
       "      <td>...</td>\n",
       "    </tr>\n",
       "    <tr>\n",
       "      <th>554</th>\n",
       "      <td>Your Highness</td>\n",
       "      <td>Comedy</td>\n",
       "      <td>26</td>\n",
       "      <td>36</td>\n",
       "      <td>50</td>\n",
       "      <td>2011</td>\n",
       "    </tr>\n",
       "    <tr>\n",
       "      <th>555</th>\n",
       "      <td>Youth in Revolt</td>\n",
       "      <td>Comedy</td>\n",
       "      <td>68</td>\n",
       "      <td>52</td>\n",
       "      <td>18</td>\n",
       "      <td>2009</td>\n",
       "    </tr>\n",
       "    <tr>\n",
       "      <th>556</th>\n",
       "      <td>Zodiac</td>\n",
       "      <td>Thriller</td>\n",
       "      <td>89</td>\n",
       "      <td>73</td>\n",
       "      <td>65</td>\n",
       "      <td>2007</td>\n",
       "    </tr>\n",
       "    <tr>\n",
       "      <th>557</th>\n",
       "      <td>Zombieland</td>\n",
       "      <td>Action</td>\n",
       "      <td>90</td>\n",
       "      <td>87</td>\n",
       "      <td>24</td>\n",
       "      <td>2009</td>\n",
       "    </tr>\n",
       "    <tr>\n",
       "      <th>558</th>\n",
       "      <td>Zookeeper</td>\n",
       "      <td>Comedy</td>\n",
       "      <td>14</td>\n",
       "      <td>42</td>\n",
       "      <td>80</td>\n",
       "      <td>2011</td>\n",
       "    </tr>\n",
       "  </tbody>\n",
       "</table>\n",
       "<p>559 rows × 6 columns</p>\n",
       "</div>"
      ],
      "text/plain": [
       "                      Film      Genre  Rotten Tomatoes Ratings %  \\\n",
       "0    (500) Days of Summer      Comedy                         87   \n",
       "1              10,000 B.C.  Adventure                          9   \n",
       "2               12 Rounds      Action                         30   \n",
       "3                127 Hours  Adventure                         93   \n",
       "4                17 Again      Comedy                         55   \n",
       "..                     ...        ...                        ...   \n",
       "554          Your Highness     Comedy                         26   \n",
       "555        Youth in Revolt     Comedy                         68   \n",
       "556                 Zodiac   Thriller                         89   \n",
       "557            Zombieland      Action                         90   \n",
       "558              Zookeeper     Comedy                         14   \n",
       "\n",
       "     Audience Ratings %  Budget (million $)  Year of release  \n",
       "0                    81                   8             2009  \n",
       "1                    44                 105             2008  \n",
       "2                    52                  20             2009  \n",
       "3                    84                  18             2010  \n",
       "4                    70                  20             2009  \n",
       "..                  ...                 ...              ...  \n",
       "554                  36                  50             2011  \n",
       "555                  52                  18             2009  \n",
       "556                  73                  65             2007  \n",
       "557                  87                  24             2009  \n",
       "558                  42                  80             2011  \n",
       "\n",
       "[559 rows x 6 columns]"
      ]
     },
     "execution_count": 4,
     "metadata": {},
     "output_type": "execute_result"
    }
   ],
   "source": [
    "movies"
   ]
  },
  {
   "cell_type": "code",
   "execution_count": 5,
   "id": "63611285-b117-419e-89ed-f79a1c3e4a7d",
   "metadata": {},
   "outputs": [
    {
     "data": {
      "text/plain": [
       "Index(['Film', 'Genre', 'Rotten Tomatoes Ratings %', 'Audience Ratings %',\n",
       "       'Budget (million $)', 'Year of release'],\n",
       "      dtype='object')"
      ]
     },
     "execution_count": 5,
     "metadata": {},
     "output_type": "execute_result"
    }
   ],
   "source": [
    "movies.columns"
   ]
  },
  {
   "cell_type": "code",
   "execution_count": 6,
   "id": "04a7e923-e3a8-442b-bb88-306bbaf3c7d8",
   "metadata": {},
   "outputs": [],
   "source": [
    "movies.columns = ['Film', 'Genre', 'CriticRatings', 'AudienceRatings', 'BudgetMillions', 'Year']"
   ]
  },
  {
   "cell_type": "code",
   "execution_count": 7,
   "id": "bea0895b-e521-4d0d-ac05-2b369aebb3e4",
   "metadata": {},
   "outputs": [
    {
     "data": {
      "text/html": [
       "<div>\n",
       "<style scoped>\n",
       "    .dataframe tbody tr th:only-of-type {\n",
       "        vertical-align: middle;\n",
       "    }\n",
       "\n",
       "    .dataframe tbody tr th {\n",
       "        vertical-align: top;\n",
       "    }\n",
       "\n",
       "    .dataframe thead th {\n",
       "        text-align: right;\n",
       "    }\n",
       "</style>\n",
       "<table border=\"1\" class=\"dataframe\">\n",
       "  <thead>\n",
       "    <tr style=\"text-align: right;\">\n",
       "      <th></th>\n",
       "      <th>Film</th>\n",
       "      <th>Genre</th>\n",
       "      <th>CriticRatings</th>\n",
       "      <th>AudienceRatings</th>\n",
       "      <th>BudgetMillions</th>\n",
       "      <th>Year</th>\n",
       "    </tr>\n",
       "  </thead>\n",
       "  <tbody>\n",
       "    <tr>\n",
       "      <th>0</th>\n",
       "      <td>(500) Days of Summer</td>\n",
       "      <td>Comedy</td>\n",
       "      <td>87</td>\n",
       "      <td>81</td>\n",
       "      <td>8</td>\n",
       "      <td>2009</td>\n",
       "    </tr>\n",
       "    <tr>\n",
       "      <th>1</th>\n",
       "      <td>10,000 B.C.</td>\n",
       "      <td>Adventure</td>\n",
       "      <td>9</td>\n",
       "      <td>44</td>\n",
       "      <td>105</td>\n",
       "      <td>2008</td>\n",
       "    </tr>\n",
       "    <tr>\n",
       "      <th>2</th>\n",
       "      <td>12 Rounds</td>\n",
       "      <td>Action</td>\n",
       "      <td>30</td>\n",
       "      <td>52</td>\n",
       "      <td>20</td>\n",
       "      <td>2009</td>\n",
       "    </tr>\n",
       "    <tr>\n",
       "      <th>3</th>\n",
       "      <td>127 Hours</td>\n",
       "      <td>Adventure</td>\n",
       "      <td>93</td>\n",
       "      <td>84</td>\n",
       "      <td>18</td>\n",
       "      <td>2010</td>\n",
       "    </tr>\n",
       "    <tr>\n",
       "      <th>4</th>\n",
       "      <td>17 Again</td>\n",
       "      <td>Comedy</td>\n",
       "      <td>55</td>\n",
       "      <td>70</td>\n",
       "      <td>20</td>\n",
       "      <td>2009</td>\n",
       "    </tr>\n",
       "    <tr>\n",
       "      <th>...</th>\n",
       "      <td>...</td>\n",
       "      <td>...</td>\n",
       "      <td>...</td>\n",
       "      <td>...</td>\n",
       "      <td>...</td>\n",
       "      <td>...</td>\n",
       "    </tr>\n",
       "    <tr>\n",
       "      <th>554</th>\n",
       "      <td>Your Highness</td>\n",
       "      <td>Comedy</td>\n",
       "      <td>26</td>\n",
       "      <td>36</td>\n",
       "      <td>50</td>\n",
       "      <td>2011</td>\n",
       "    </tr>\n",
       "    <tr>\n",
       "      <th>555</th>\n",
       "      <td>Youth in Revolt</td>\n",
       "      <td>Comedy</td>\n",
       "      <td>68</td>\n",
       "      <td>52</td>\n",
       "      <td>18</td>\n",
       "      <td>2009</td>\n",
       "    </tr>\n",
       "    <tr>\n",
       "      <th>556</th>\n",
       "      <td>Zodiac</td>\n",
       "      <td>Thriller</td>\n",
       "      <td>89</td>\n",
       "      <td>73</td>\n",
       "      <td>65</td>\n",
       "      <td>2007</td>\n",
       "    </tr>\n",
       "    <tr>\n",
       "      <th>557</th>\n",
       "      <td>Zombieland</td>\n",
       "      <td>Action</td>\n",
       "      <td>90</td>\n",
       "      <td>87</td>\n",
       "      <td>24</td>\n",
       "      <td>2009</td>\n",
       "    </tr>\n",
       "    <tr>\n",
       "      <th>558</th>\n",
       "      <td>Zookeeper</td>\n",
       "      <td>Comedy</td>\n",
       "      <td>14</td>\n",
       "      <td>42</td>\n",
       "      <td>80</td>\n",
       "      <td>2011</td>\n",
       "    </tr>\n",
       "  </tbody>\n",
       "</table>\n",
       "<p>559 rows × 6 columns</p>\n",
       "</div>"
      ],
      "text/plain": [
       "                      Film      Genre  CriticRatings  AudienceRatings  \\\n",
       "0    (500) Days of Summer      Comedy             87               81   \n",
       "1              10,000 B.C.  Adventure              9               44   \n",
       "2               12 Rounds      Action             30               52   \n",
       "3                127 Hours  Adventure             93               84   \n",
       "4                17 Again      Comedy             55               70   \n",
       "..                     ...        ...            ...              ...   \n",
       "554          Your Highness     Comedy             26               36   \n",
       "555        Youth in Revolt     Comedy             68               52   \n",
       "556                 Zodiac   Thriller             89               73   \n",
       "557            Zombieland      Action             90               87   \n",
       "558              Zookeeper     Comedy             14               42   \n",
       "\n",
       "     BudgetMillions  Year  \n",
       "0                 8  2009  \n",
       "1               105  2008  \n",
       "2                20  2009  \n",
       "3                18  2010  \n",
       "4                20  2009  \n",
       "..              ...   ...  \n",
       "554              50  2011  \n",
       "555              18  2009  \n",
       "556              65  2007  \n",
       "557              24  2009  \n",
       "558              80  2011  \n",
       "\n",
       "[559 rows x 6 columns]"
      ]
     },
     "execution_count": 7,
     "metadata": {},
     "output_type": "execute_result"
    }
   ],
   "source": [
    "movies"
   ]
  },
  {
   "cell_type": "code",
   "execution_count": 8,
   "id": "8960b9c4-d29e-4716-b671-3533bc10fd8d",
   "metadata": {},
   "outputs": [
    {
     "data": {
      "image/png": "[encoded data removed]",
      "text/plain": [
       "<Figure size 640x480 with 1 Axes>"
      ]
     },
     "metadata": {},
     "output_type": "display_data"
    }
   ],
   "source": [
    "sns.set_style('darkgrid')\n",
    "plt.hist(movies.BudgetMillions)\n",
    "plt.show()"
   ]
  },
  {
   "cell_type": "code",
   "execution_count": 9,
   "id": "5048a24f-4798-47fd-b4b7-755f7730bb1e",
   "metadata": {},
   "outputs": [
    {
     "data": {
      "text/plain": [
       "Index(['Film', 'Genre', 'CriticRatings', 'AudienceRatings', 'BudgetMillions',\n",
       "       'Year'],\n",
       "      dtype='object')"
      ]
     },
     "execution_count": 9,
     "metadata": {},
     "output_type": "execute_result"
    }
   ],
   "source": [
    "movies.columns"
   ]
  },
  {
   "cell_type": "code",
   "execution_count": 10,
   "id": "d88caace-7e14-40bd-9923-57d798eccc9c",
   "metadata": {},
   "outputs": [
    {
     "name": "stdout",
     "output_type": "stream",
     "text": [
      "<class 'pandas.core.frame.DataFrame'>\n",
      "RangeIndex: 559 entries, 0 to 558\n",
      "Data columns (total 6 columns):\n",
      " #   Column           Non-Null Count  Dtype \n",
      "---  ------           --------------  ----- \n",
      " 0   Film             559 non-null    object\n",
      " 1   Genre            559 non-null    object\n",
      " 2   CriticRatings    559 non-null    int64 \n",
      " 3   AudienceRatings  559 non-null    int64 \n",
      " 4   BudgetMillions   559 non-null    int64 \n",
      " 5   Year             559 non-null    int64 \n",
      "dtypes: int64(4), object(2)\n",
      "memory usage: 26.3+ KB\n"
     ]
    }
   ],
   "source": [
    "movies.info()"
   ]
  },
  {
   "cell_type": "code",
   "execution_count": 11,
   "id": "7dcdcafc-6492-474c-a447-69d68dbf05bc",
   "metadata": {},
   "outputs": [],
   "source": [
    "#Converting the datatype into category\n",
    "movies.Film = movies.Film.astype('category')"
   ]
  },
  {
   "cell_type": "code",
   "execution_count": 12,
   "id": "fca1a031-385b-461b-9f03-0cf090bab057",
   "metadata": {},
   "outputs": [
    {
     "name": "stdout",
     "output_type": "stream",
     "text": [
      "<class 'pandas.core.frame.DataFrame'>\n",
      "RangeIndex: 559 entries, 0 to 558\n",
      "Data columns (total 6 columns):\n",
      " #   Column           Non-Null Count  Dtype   \n",
      "---  ------           --------------  -----   \n",
      " 0   Film             559 non-null    category\n",
      " 1   Genre            559 non-null    object  \n",
      " 2   CriticRatings    559 non-null    int64   \n",
      " 3   AudienceRatings  559 non-null    int64   \n",
      " 4   BudgetMillions   559 non-null    int64   \n",
      " 5   Year             559 non-null    int64   \n",
      "dtypes: category(1), int64(4), object(1)\n",
      "memory usage: 43.6+ KB\n"
     ]
    }
   ],
   "source": [
    "movies.info()"
   ]
  },
  {
   "cell_type": "code",
   "execution_count": 13,
   "id": "607ff1f6-96ca-49f1-91ec-a2be632fda97",
   "metadata": {},
   "outputs": [],
   "source": [
    "movies.Genre = movies.Genre.astype('category')\n",
    "movies.Year = movies.Year.astype('category')"
   ]
  },
  {
   "cell_type": "code",
   "execution_count": 14,
   "id": "1bfee88a-18be-40de-b4fc-bc309e1b7cf5",
   "metadata": {},
   "outputs": [
    {
     "name": "stdout",
     "output_type": "stream",
     "text": [
      "<class 'pandas.core.frame.DataFrame'>\n",
      "RangeIndex: 559 entries, 0 to 558\n",
      "Data columns (total 6 columns):\n",
      " #   Column           Non-Null Count  Dtype   \n",
      "---  ------           --------------  -----   \n",
      " 0   Film             559 non-null    category\n",
      " 1   Genre            559 non-null    category\n",
      " 2   CriticRatings    559 non-null    int64   \n",
      " 3   AudienceRatings  559 non-null    int64   \n",
      " 4   BudgetMillions   559 non-null    int64   \n",
      " 5   Year             559 non-null    category\n",
      "dtypes: category(3), int64(3)\n",
      "memory usage: 36.5 KB\n"
     ]
    }
   ],
   "source": [
    "movies.info()"
   ]
  },
  {
   "cell_type": "code",
   "execution_count": 15,
   "id": "007c3a3f-ab04-4ea1-a3aa-d87a52124588",
   "metadata": {},
   "outputs": [
    {
     "data": {
      "image/png": "[encoded data removed]",
      "text/plain": [
       "<Figure size 640x480 with 1 Axes>"
      ]
     },
     "metadata": {},
     "output_type": "display_data"
    }
   ],
   "source": [
    "sns.set_style('darkgrid')\n",
    "plt.hist(movies.BudgetMillions)\n",
    "plt.show()"
   ]
  },
  {
   "cell_type": "code",
   "execution_count": 16,
   "id": "0f1a6faf-9c00-42bc-b9a8-b9c71a5fd997",
   "metadata": {},
   "outputs": [
    {
     "data": {
      "image/png": "[encoded data removed]",
      "text/plain": [
       "<Figure size 640x480 with 1 Axes>"
      ]
     },
     "metadata": {},
     "output_type": "display_data"
    }
   ],
   "source": [
    "sns.set_style('darkgrid')\n",
    "plt.hist(movies.Genre)\n",
    "plt.show()"
   ]
  },
  {
   "cell_type": "code",
   "execution_count": 17,
   "id": "a418d4de-d400-48ad-84b6-91f100dffb4e",
   "metadata": {},
   "outputs": [
    {
     "data": {
      "image/png": "[encoded data removed]",
      "text/plain": [
       "<Figure size 640x480 with 1 Axes>"
      ]
     },
     "metadata": {},
     "output_type": "display_data"
    }
   ],
   "source": [
    "sns.set_style('darkgrid')\n",
    "plt.hist(movies[movies.Genre == 'Action'].BudgetMillions)\n",
    "plt.hist(movies[movies.Genre == 'Adventure'].BudgetMillions)\n",
    "plt.hist(movies[movies.Genre == 'Horror'].BudgetMillions)\n",
    "plt.hist(movies[movies.Genre == 'Drama'].BudgetMillions)\n",
    "plt.hist(movies[movies.Genre == 'Romance'].BudgetMillions)\n",
    "plt.hist(movies[movies.Genre == 'Thriller'].BudgetMillions)\n",
    "plt.show()"
   ]
  },
  {
   "cell_type": "code",
   "execution_count": 18,
   "id": "85289167-5673-4be4-9a14-9fbb8c56d7c8",
   "metadata": {},
   "outputs": [
    {
     "data": {
      "image/png": "[encoded data removed]",
      "text/plain": [
       "<Figure size 640x480 with 1 Axes>"
      ]
     },
     "metadata": {},
     "output_type": "display_data"
    }
   ],
   "source": [
    "sns.set_style('darkgrid')\n",
    "plt.hist([\n",
    "    movies[movies.Genre == 'Action'].BudgetMillions,\n",
    "    movies[movies.Genre == 'Adventure'].BudgetMillions,\n",
    "    movies[movies.Genre == 'Drama'].BudgetMillions,\n",
    "    movies[movies.Genre == 'Thriller'].BudgetMillions\n",
    "    ])\n",
    "plt.show()\n"
   ]
  },
  {
   "cell_type": "code",
   "execution_count": 19,
   "id": "c9fc2ebe-561a-4981-b0e4-65bbdfdce3e3",
   "metadata": {},
   "outputs": [
    {
     "data": {
      "image/png": "[encoded data removed]",
      "text/plain": [
       "<Figure size 640x480 with 1 Axes>"
      ]
     },
     "metadata": {},
     "output_type": "display_data"
    }
   ],
   "source": [
    "#adding parameter -> stacked = True\n",
    "sns.set_style('darkgrid')\n",
    "plt.hist([\n",
    "    movies[movies.Genre == 'Action'].BudgetMillions,\n",
    "    movies[movies.Genre == 'Adventure'].BudgetMillions,\n",
    "    movies[movies.Genre == 'Drama'].BudgetMillions,\n",
    "    movies[movies.Genre == 'Thriller'].BudgetMillions\n",
    "    ], stacked=True)\n",
    "plt.show()\n"
   ]
  },
  {
   "cell_type": "code",
   "execution_count": 20,
   "id": "6b406336-4ffe-4333-859c-ddd9e35e5946",
   "metadata": {},
   "outputs": [
    {
     "data": {
      "text/plain": [
       "Index(['Action', 'Adventure', 'Comedy', 'Drama', 'Horror', 'Romance',\n",
       "       'Thriller'],\n",
       "      dtype='object')"
      ]
     },
     "execution_count": 20,
     "metadata": {},
     "output_type": "execute_result"
    }
   ],
   "source": [
    "genres = movies.Genre.cat.categories\n",
    "genres"
   ]
  },
  {
   "cell_type": "code",
   "execution_count": 29,
   "id": "e16cd774-0e1f-45a1-a24a-de67bd67b6e4",
   "metadata": {},
   "outputs": [
    {
     "data": {
      "image/png": "[encoded data removed]",
      "text/plain": [
       "<Figure size 640x480 with 1 Axes>"
      ]
     },
     "metadata": {},
     "output_type": "display_data"
    }
   ],
   "source": [
    "for gen in genres:\n",
    "    plt.hist(movies[movies.Genre == gen].BudgetMillions, stacked=True)\n",
    "plt.show()"
   ]
  },
  {
   "cell_type": "code",
   "execution_count": 30,
   "id": "631da665-af35-4536-8062-273135cc9eed",
   "metadata": {},
   "outputs": [
    {
     "data": {
      "image/png": "[encoded data removed]",
      "text/plain": [
       "<Figure size 640x480 with 1 Axes>"
      ]
     },
     "metadata": {},
     "output_type": "display_data"
    }
   ],
   "source": [
    "for gen in movies.Genre.cat.categories:\n",
    "    plt.hist(movies[movies.Genre==gen].BudgetMillions)\n",
    "plt.show()"
   ]
  },
  {
   "cell_type": "code",
   "execution_count": 31,
   "id": "d031bc5b-21b1-46e7-bad4-2d11837bf6b4",
   "metadata": {},
   "outputs": [
    {
     "data": {
      "text/plain": [
       "pandas.core.indexes.base.Index"
      ]
     },
     "execution_count": 31,
     "metadata": {},
     "output_type": "execute_result"
    }
   ],
   "source": [
    "type(movies.Genre.cat.categories)"
   ]
  },
  {
   "cell_type": "raw",
   "id": "4921ef0a-b19b-4394-88b2-ca603040b012",
   "metadata": {},
   "source": [
    "ABOVE WAS TILL THE HISTOGRAM. \n",
    "Now we generalising to get any plot by appending the data to a list. "
   ]
  },
  {
   "cell_type": "code",
   "execution_count": 45,
   "id": "0d1f4c55-cfa1-406a-9b8e-873ed3f09c45",
   "metadata": {},
   "outputs": [
    {
     "data": {
      "image/png": "[encoded data removed]",
      "text/plain": [
       "<Figure size 640x480 with 1 Axes>"
      ]
     },
     "metadata": {},
     "output_type": "display_data"
    }
   ],
   "source": [
    "list1 = list()\n",
    "mylabels = list()\n",
    "for gen in movies.Genre.cat.categories:\n",
    "    list1.append(movies[movies.Genre == gen].BudgetMillions)\n",
    "    mylabels.append(gen)\n",
    "\n",
    "h = plt.hist(list1, bins=30, stacked=True, label=mylabels)\n",
    "plt.legend()\n",
    "plt.show()"
   ]
  },
  {
   "cell_type": "code",
   "execution_count": null,
   "id": "bf65759f-be8f-4c1c-adde-dfb75e71ce0e",
   "metadata": {},
   "outputs": [],
   "source": []
  }
 ],
 "metadata": {
  "kernelspec": {
   "display_name": "Python 3 (ipykernel)",
   "language": "python",
   "name": "python3"
  },
  "language_info": {
   "codemirror_mode": {
    "name": "ipython",
    "version": 3
   },
   "file_extension": ".py",
   "mimetype": "text/x-python",
   "name": "python",
   "nbconvert_exporter": "python",
   "pygments_lexer": "ipython3",
   "version": "3.11.7"
  }
 },
 "nbformat": 4,
 "nbformat_minor": 5
}
